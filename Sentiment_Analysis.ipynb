{
  "cells": [
    {
      "cell_type": "markdown",
      "source": [
        "# **Load Data From Kaggle**"
      ],
      "metadata": {
        "id": "tXbPqviPZqUk"
      }
    },
    {
      "cell_type": "code",
      "execution_count": 1,
      "metadata": {
        "colab": {
          "base_uri": "https://localhost:8080/",
          "height": 90
        },
        "id": "sDZJIvn4svyo",
        "outputId": "7f0827e8-2ca7-43d0-ba77-d39af1f1eeee"
      },
      "outputs": [
        {
          "output_type": "display_data",
          "data": {
            "text/plain": [
              "<IPython.core.display.HTML object>"
            ],
            "text/html": [
              "\n",
              "     <input type=\"file\" id=\"files-2b0138e8-1ae3-4bb0-b2e6-60296075538f\" name=\"files[]\" multiple disabled\n",
              "        style=\"border:none\" />\n",
              "     <output id=\"result-2b0138e8-1ae3-4bb0-b2e6-60296075538f\">\n",
              "      Upload widget is only available when the cell has been executed in the\n",
              "      current browser session. Please rerun this cell to enable.\n",
              "      </output>\n",
              "      <script>// Copyright 2017 Google LLC\n",
              "//\n",
              "// Licensed under the Apache License, Version 2.0 (the \"License\");\n",
              "// you may not use this file except in compliance with the License.\n",
              "// You may obtain a copy of the License at\n",
              "//\n",
              "//      http://www.apache.org/licenses/LICENSE-2.0\n",
              "//\n",
              "// Unless required by applicable law or agreed to in writing, software\n",
              "// distributed under the License is distributed on an \"AS IS\" BASIS,\n",
              "// WITHOUT WARRANTIES OR CONDITIONS OF ANY KIND, either express or implied.\n",
              "// See the License for the specific language governing permissions and\n",
              "// limitations under the License.\n",
              "\n",
              "/**\n",
              " * @fileoverview Helpers for google.colab Python module.\n",
              " */\n",
              "(function(scope) {\n",
              "function span(text, styleAttributes = {}) {\n",
              "  const element = document.createElement('span');\n",
              "  element.textContent = text;\n",
              "  for (const key of Object.keys(styleAttributes)) {\n",
              "    element.style[key] = styleAttributes[key];\n",
              "  }\n",
              "  return element;\n",
              "}\n",
              "\n",
              "// Max number of bytes which will be uploaded at a time.\n",
              "const MAX_PAYLOAD_SIZE = 100 * 1024;\n",
              "\n",
              "function _uploadFiles(inputId, outputId) {\n",
              "  const steps = uploadFilesStep(inputId, outputId);\n",
              "  const outputElement = document.getElementById(outputId);\n",
              "  // Cache steps on the outputElement to make it available for the next call\n",
              "  // to uploadFilesContinue from Python.\n",
              "  outputElement.steps = steps;\n",
              "\n",
              "  return _uploadFilesContinue(outputId);\n",
              "}\n",
              "\n",
              "// This is roughly an async generator (not supported in the browser yet),\n",
              "// where there are multiple asynchronous steps and the Python side is going\n",
              "// to poll for completion of each step.\n",
              "// This uses a Promise to block the python side on completion of each step,\n",
              "// then passes the result of the previous step as the input to the next step.\n",
              "function _uploadFilesContinue(outputId) {\n",
              "  const outputElement = document.getElementById(outputId);\n",
              "  const steps = outputElement.steps;\n",
              "\n",
              "  const next = steps.next(outputElement.lastPromiseValue);\n",
              "  return Promise.resolve(next.value.promise).then((value) => {\n",
              "    // Cache the last promise value to make it available to the next\n",
              "    // step of the generator.\n",
              "    outputElement.lastPromiseValue = value;\n",
              "    return next.value.response;\n",
              "  });\n",
              "}\n",
              "\n",
              "/**\n",
              " * Generator function which is called between each async step of the upload\n",
              " * process.\n",
              " * @param {string} inputId Element ID of the input file picker element.\n",
              " * @param {string} outputId Element ID of the output display.\n",
              " * @return {!Iterable<!Object>} Iterable of next steps.\n",
              " */\n",
              "function* uploadFilesStep(inputId, outputId) {\n",
              "  const inputElement = document.getElementById(inputId);\n",
              "  inputElement.disabled = false;\n",
              "\n",
              "  const outputElement = document.getElementById(outputId);\n",
              "  outputElement.innerHTML = '';\n",
              "\n",
              "  const pickedPromise = new Promise((resolve) => {\n",
              "    inputElement.addEventListener('change', (e) => {\n",
              "      resolve(e.target.files);\n",
              "    });\n",
              "  });\n",
              "\n",
              "  const cancel = document.createElement('button');\n",
              "  inputElement.parentElement.appendChild(cancel);\n",
              "  cancel.textContent = 'Cancel upload';\n",
              "  const cancelPromise = new Promise((resolve) => {\n",
              "    cancel.onclick = () => {\n",
              "      resolve(null);\n",
              "    };\n",
              "  });\n",
              "\n",
              "  // Wait for the user to pick the files.\n",
              "  const files = yield {\n",
              "    promise: Promise.race([pickedPromise, cancelPromise]),\n",
              "    response: {\n",
              "      action: 'starting',\n",
              "    }\n",
              "  };\n",
              "\n",
              "  cancel.remove();\n",
              "\n",
              "  // Disable the input element since further picks are not allowed.\n",
              "  inputElement.disabled = true;\n",
              "\n",
              "  if (!files) {\n",
              "    return {\n",
              "      response: {\n",
              "        action: 'complete',\n",
              "      }\n",
              "    };\n",
              "  }\n",
              "\n",
              "  for (const file of files) {\n",
              "    const li = document.createElement('li');\n",
              "    li.append(span(file.name, {fontWeight: 'bold'}));\n",
              "    li.append(span(\n",
              "        `(${file.type || 'n/a'}) - ${file.size} bytes, ` +\n",
              "        `last modified: ${\n",
              "            file.lastModifiedDate ? file.lastModifiedDate.toLocaleDateString() :\n",
              "                                    'n/a'} - `));\n",
              "    const percent = span('0% done');\n",
              "    li.appendChild(percent);\n",
              "\n",
              "    outputElement.appendChild(li);\n",
              "\n",
              "    const fileDataPromise = new Promise((resolve) => {\n",
              "      const reader = new FileReader();\n",
              "      reader.onload = (e) => {\n",
              "        resolve(e.target.result);\n",
              "      };\n",
              "      reader.readAsArrayBuffer(file);\n",
              "    });\n",
              "    // Wait for the data to be ready.\n",
              "    let fileData = yield {\n",
              "      promise: fileDataPromise,\n",
              "      response: {\n",
              "        action: 'continue',\n",
              "      }\n",
              "    };\n",
              "\n",
              "    // Use a chunked sending to avoid message size limits. See b/62115660.\n",
              "    let position = 0;\n",
              "    do {\n",
              "      const length = Math.min(fileData.byteLength - position, MAX_PAYLOAD_SIZE);\n",
              "      const chunk = new Uint8Array(fileData, position, length);\n",
              "      position += length;\n",
              "\n",
              "      const base64 = btoa(String.fromCharCode.apply(null, chunk));\n",
              "      yield {\n",
              "        response: {\n",
              "          action: 'append',\n",
              "          file: file.name,\n",
              "          data: base64,\n",
              "        },\n",
              "      };\n",
              "\n",
              "      let percentDone = fileData.byteLength === 0 ?\n",
              "          100 :\n",
              "          Math.round((position / fileData.byteLength) * 100);\n",
              "      percent.textContent = `${percentDone}% done`;\n",
              "\n",
              "    } while (position < fileData.byteLength);\n",
              "  }\n",
              "\n",
              "  // All done.\n",
              "  yield {\n",
              "    response: {\n",
              "      action: 'complete',\n",
              "    }\n",
              "  };\n",
              "}\n",
              "\n",
              "scope.google = scope.google || {};\n",
              "scope.google.colab = scope.google.colab || {};\n",
              "scope.google.colab._files = {\n",
              "  _uploadFiles,\n",
              "  _uploadFilesContinue,\n",
              "};\n",
              "})(self);\n",
              "</script> "
            ]
          },
          "metadata": {}
        },
        {
          "output_type": "stream",
          "name": "stdout",
          "text": [
            "Saving kaggle.json to kaggle.json\n",
            "User uploaded file \"kaggle.json\" with length 70 bytes\n"
          ]
        }
      ],
      "source": [
        "from google.colab import files\n",
        "\n",
        "uploaded = files.upload()\n",
        "\n",
        "for fn in uploaded.keys():\n",
        "  print('User uploaded file \"{name}\" with length {length} bytes'.format(\n",
        "      name=fn, length=len(uploaded[fn])))\n",
        "!mkdir -p ~/.kaggle/ && mv kaggle.json ~/.kaggle/ && chmod 600 ~/.kaggle/kaggle.json"
      ]
    },
    {
      "cell_type": "code",
      "execution_count": 2,
      "metadata": {
        "id": "CmWmJBd5tT3b",
        "colab": {
          "base_uri": "https://localhost:8080/"
        },
        "outputId": "2f9cd2d8-6d22-4add-c0c4-1a82571231e3"
      },
      "outputs": [
        {
          "output_type": "stream",
          "name": "stdout",
          "text": [
            "Downloading imdb-movie-ratings-sentiment-analysis.zip to /content\n",
            "\r  0% 0.00/20.6M [00:00<?, ?B/s]\r 44% 9.00M/20.6M [00:00<00:00, 66.1MB/s]\n",
            "\r100% 20.6M/20.6M [00:00<00:00, 115MB/s] \n"
          ]
        }
      ],
      "source": [
        "!kaggle datasets download -d yasserh/imdb-movie-ratings-sentiment-analysis"
      ]
    },
    {
      "cell_type": "code",
      "execution_count": 3,
      "metadata": {
        "id": "JSzOtJMbtner",
        "colab": {
          "base_uri": "https://localhost:8080/"
        },
        "outputId": "c385c07b-8657-484b-f642-3a3bfb23377c"
      },
      "outputs": [
        {
          "output_type": "stream",
          "name": "stdout",
          "text": [
            "Done\n"
          ]
        }
      ],
      "source": [
        "from zipfile import ZipFile\n",
        "file_name = \"/content/imdb-movie-ratings-sentiment-analysis.zip\"\n",
        "with ZipFile(file_name,'r') as zip:\n",
        "  zip.extractall()\n",
        "  print('Done')"
      ]
    },
    {
      "cell_type": "markdown",
      "source": [
        "# **Import Library it needed**"
      ],
      "metadata": {
        "id": "M9UPJBaZhxRJ"
      }
    },
    {
      "cell_type": "code",
      "execution_count": 40,
      "metadata": {
        "id": "0I9jRqNYt81c"
      },
      "outputs": [],
      "source": [
        "import pandas as pd\n",
        "import numpy as np\n",
        "import tensorflow as tf\n",
        "\n",
        "import re\n",
        "import nltk\n",
        "\n",
        "from nltk.corpus import stopwords\n",
        "from nltk.tokenize import word_tokenize\n",
        "from nltk.stem import WordNetLemmatizer\n",
        "from nltk.tokenize import word_tokenize\n",
        "from gensim.models import Word2Vec\n",
        "\n",
        "from sklearn.model_selection import train_test_split\n",
        "\n",
        "from tensorflow.keras.preprocessing.text import Tokenizer\n",
        "from tensorflow.keras.preprocessing.sequence import pad_sequences\n",
        "\n",
        "from keras.models import Sequential\n",
        "from keras.layers import Embedding, Dense, Bidirectional, Activation, GlobalMaxPool1D, GRU, LSTM, Dropout\n",
        "from tensorflow.keras.callbacks import ReduceLROnPlateau, EarlyStopping\n",
        "\n",
        "from sklearn.metrics import accuracy_score, precision_score, recall_score, f1_score, confusion_matrix\n",
        "import matplotlib.pyplot as plt\n",
        "from keras.utils import plot_model\n",
        "\n",
        "from google.colab import drive\n",
        "from keras.models import load_model\n",
        "import pickle"
      ]
    },
    {
      "cell_type": "markdown",
      "source": [
        "## **Read Data From CSV File**"
      ],
      "metadata": {
        "id": "qniOROg0bnQL"
      }
    },
    {
      "cell_type": "code",
      "execution_count": 6,
      "metadata": {
        "id": "KzmEdjSTtv0a"
      },
      "outputs": [],
      "source": [
        "dataset = pd.read_csv(\"/content/movie.csv\")"
      ]
    },
    {
      "cell_type": "markdown",
      "source": [
        "Show the top 5 row in dataset"
      ],
      "metadata": {
        "id": "i8jA-kMpiDpn"
      }
    },
    {
      "cell_type": "code",
      "execution_count": 7,
      "metadata": {
        "id": "qQ-jFjEouB2t",
        "colab": {
          "base_uri": "https://localhost:8080/",
          "height": 206
        },
        "outputId": "b1da1795-5b75-4620-d5fb-48b5ee771bbd"
      },
      "outputs": [
        {
          "output_type": "execute_result",
          "data": {
            "text/plain": [
              "                                                text  label\n",
              "0  I grew up (b. 1965) watching and loving the Th...      0\n",
              "1  When I put this movie in my DVD player, and sa...      0\n",
              "2  Why do people who do not know what a particula...      0\n",
              "3  Even though I have great interest in Biblical ...      0\n",
              "4  Im a die hard Dads Army fan and nothing will e...      1"
            ],
            "text/html": [
              "\n",
              "  <div id=\"df-0087371e-2437-4724-ba7e-7b655d15551b\" class=\"colab-df-container\">\n",
              "    <div>\n",
              "<style scoped>\n",
              "    .dataframe tbody tr th:only-of-type {\n",
              "        vertical-align: middle;\n",
              "    }\n",
              "\n",
              "    .dataframe tbody tr th {\n",
              "        vertical-align: top;\n",
              "    }\n",
              "\n",
              "    .dataframe thead th {\n",
              "        text-align: right;\n",
              "    }\n",
              "</style>\n",
              "<table border=\"1\" class=\"dataframe\">\n",
              "  <thead>\n",
              "    <tr style=\"text-align: right;\">\n",
              "      <th></th>\n",
              "      <th>text</th>\n",
              "      <th>label</th>\n",
              "    </tr>\n",
              "  </thead>\n",
              "  <tbody>\n",
              "    <tr>\n",
              "      <th>0</th>\n",
              "      <td>I grew up (b. 1965) watching and loving the Th...</td>\n",
              "      <td>0</td>\n",
              "    </tr>\n",
              "    <tr>\n",
              "      <th>1</th>\n",
              "      <td>When I put this movie in my DVD player, and sa...</td>\n",
              "      <td>0</td>\n",
              "    </tr>\n",
              "    <tr>\n",
              "      <th>2</th>\n",
              "      <td>Why do people who do not know what a particula...</td>\n",
              "      <td>0</td>\n",
              "    </tr>\n",
              "    <tr>\n",
              "      <th>3</th>\n",
              "      <td>Even though I have great interest in Biblical ...</td>\n",
              "      <td>0</td>\n",
              "    </tr>\n",
              "    <tr>\n",
              "      <th>4</th>\n",
              "      <td>Im a die hard Dads Army fan and nothing will e...</td>\n",
              "      <td>1</td>\n",
              "    </tr>\n",
              "  </tbody>\n",
              "</table>\n",
              "</div>\n",
              "    <div class=\"colab-df-buttons\">\n",
              "\n",
              "  <div class=\"colab-df-container\">\n",
              "    <button class=\"colab-df-convert\" onclick=\"convertToInteractive('df-0087371e-2437-4724-ba7e-7b655d15551b')\"\n",
              "            title=\"Convert this dataframe to an interactive table.\"\n",
              "            style=\"display:none;\">\n",
              "\n",
              "  <svg xmlns=\"http://www.w3.org/2000/svg\" height=\"24px\" viewBox=\"0 -960 960 960\">\n",
              "    <path d=\"M120-120v-720h720v720H120Zm60-500h600v-160H180v160Zm220 220h160v-160H400v160Zm0 220h160v-160H400v160ZM180-400h160v-160H180v160Zm440 0h160v-160H620v160ZM180-180h160v-160H180v160Zm440 0h160v-160H620v160Z\"/>\n",
              "  </svg>\n",
              "    </button>\n",
              "\n",
              "  <style>\n",
              "    .colab-df-container {\n",
              "      display:flex;\n",
              "      gap: 12px;\n",
              "    }\n",
              "\n",
              "    .colab-df-convert {\n",
              "      background-color: #E8F0FE;\n",
              "      border: none;\n",
              "      border-radius: 50%;\n",
              "      cursor: pointer;\n",
              "      display: none;\n",
              "      fill: #1967D2;\n",
              "      height: 32px;\n",
              "      padding: 0 0 0 0;\n",
              "      width: 32px;\n",
              "    }\n",
              "\n",
              "    .colab-df-convert:hover {\n",
              "      background-color: #E2EBFA;\n",
              "      box-shadow: 0px 1px 2px rgba(60, 64, 67, 0.3), 0px 1px 3px 1px rgba(60, 64, 67, 0.15);\n",
              "      fill: #174EA6;\n",
              "    }\n",
              "\n",
              "    .colab-df-buttons div {\n",
              "      margin-bottom: 4px;\n",
              "    }\n",
              "\n",
              "    [theme=dark] .colab-df-convert {\n",
              "      background-color: #3B4455;\n",
              "      fill: #D2E3FC;\n",
              "    }\n",
              "\n",
              "    [theme=dark] .colab-df-convert:hover {\n",
              "      background-color: #434B5C;\n",
              "      box-shadow: 0px 1px 3px 1px rgba(0, 0, 0, 0.15);\n",
              "      filter: drop-shadow(0px 1px 2px rgba(0, 0, 0, 0.3));\n",
              "      fill: #FFFFFF;\n",
              "    }\n",
              "  </style>\n",
              "\n",
              "    <script>\n",
              "      const buttonEl =\n",
              "        document.querySelector('#df-0087371e-2437-4724-ba7e-7b655d15551b button.colab-df-convert');\n",
              "      buttonEl.style.display =\n",
              "        google.colab.kernel.accessAllowed ? 'block' : 'none';\n",
              "\n",
              "      async function convertToInteractive(key) {\n",
              "        const element = document.querySelector('#df-0087371e-2437-4724-ba7e-7b655d15551b');\n",
              "        const dataTable =\n",
              "          await google.colab.kernel.invokeFunction('convertToInteractive',\n",
              "                                                    [key], {});\n",
              "        if (!dataTable) return;\n",
              "\n",
              "        const docLinkHtml = 'Like what you see? Visit the ' +\n",
              "          '<a target=\"_blank\" href=https://colab.research.google.com/notebooks/data_table.ipynb>data table notebook</a>'\n",
              "          + ' to learn more about interactive tables.';\n",
              "        element.innerHTML = '';\n",
              "        dataTable['output_type'] = 'display_data';\n",
              "        await google.colab.output.renderOutput(dataTable, element);\n",
              "        const docLink = document.createElement('div');\n",
              "        docLink.innerHTML = docLinkHtml;\n",
              "        element.appendChild(docLink);\n",
              "      }\n",
              "    </script>\n",
              "  </div>\n",
              "\n",
              "\n",
              "<div id=\"df-b343cfe6-2a50-450d-ad95-37904f76fe29\">\n",
              "  <button class=\"colab-df-quickchart\" onclick=\"quickchart('df-b343cfe6-2a50-450d-ad95-37904f76fe29')\"\n",
              "            title=\"Suggest charts\"\n",
              "            style=\"display:none;\">\n",
              "\n",
              "<svg xmlns=\"http://www.w3.org/2000/svg\" height=\"24px\"viewBox=\"0 0 24 24\"\n",
              "     width=\"24px\">\n",
              "    <g>\n",
              "        <path d=\"M19 3H5c-1.1 0-2 .9-2 2v14c0 1.1.9 2 2 2h14c1.1 0 2-.9 2-2V5c0-1.1-.9-2-2-2zM9 17H7v-7h2v7zm4 0h-2V7h2v10zm4 0h-2v-4h2v4z\"/>\n",
              "    </g>\n",
              "</svg>\n",
              "  </button>\n",
              "\n",
              "<style>\n",
              "  .colab-df-quickchart {\n",
              "      --bg-color: #E8F0FE;\n",
              "      --fill-color: #1967D2;\n",
              "      --hover-bg-color: #E2EBFA;\n",
              "      --hover-fill-color: #174EA6;\n",
              "      --disabled-fill-color: #AAA;\n",
              "      --disabled-bg-color: #DDD;\n",
              "  }\n",
              "\n",
              "  [theme=dark] .colab-df-quickchart {\n",
              "      --bg-color: #3B4455;\n",
              "      --fill-color: #D2E3FC;\n",
              "      --hover-bg-color: #434B5C;\n",
              "      --hover-fill-color: #FFFFFF;\n",
              "      --disabled-bg-color: #3B4455;\n",
              "      --disabled-fill-color: #666;\n",
              "  }\n",
              "\n",
              "  .colab-df-quickchart {\n",
              "    background-color: var(--bg-color);\n",
              "    border: none;\n",
              "    border-radius: 50%;\n",
              "    cursor: pointer;\n",
              "    display: none;\n",
              "    fill: var(--fill-color);\n",
              "    height: 32px;\n",
              "    padding: 0;\n",
              "    width: 32px;\n",
              "  }\n",
              "\n",
              "  .colab-df-quickchart:hover {\n",
              "    background-color: var(--hover-bg-color);\n",
              "    box-shadow: 0 1px 2px rgba(60, 64, 67, 0.3), 0 1px 3px 1px rgba(60, 64, 67, 0.15);\n",
              "    fill: var(--button-hover-fill-color);\n",
              "  }\n",
              "\n",
              "  .colab-df-quickchart-complete:disabled,\n",
              "  .colab-df-quickchart-complete:disabled:hover {\n",
              "    background-color: var(--disabled-bg-color);\n",
              "    fill: var(--disabled-fill-color);\n",
              "    box-shadow: none;\n",
              "  }\n",
              "\n",
              "  .colab-df-spinner {\n",
              "    border: 2px solid var(--fill-color);\n",
              "    border-color: transparent;\n",
              "    border-bottom-color: var(--fill-color);\n",
              "    animation:\n",
              "      spin 1s steps(1) infinite;\n",
              "  }\n",
              "\n",
              "  @keyframes spin {\n",
              "    0% {\n",
              "      border-color: transparent;\n",
              "      border-bottom-color: var(--fill-color);\n",
              "      border-left-color: var(--fill-color);\n",
              "    }\n",
              "    20% {\n",
              "      border-color: transparent;\n",
              "      border-left-color: var(--fill-color);\n",
              "      border-top-color: var(--fill-color);\n",
              "    }\n",
              "    30% {\n",
              "      border-color: transparent;\n",
              "      border-left-color: var(--fill-color);\n",
              "      border-top-color: var(--fill-color);\n",
              "      border-right-color: var(--fill-color);\n",
              "    }\n",
              "    40% {\n",
              "      border-color: transparent;\n",
              "      border-right-color: var(--fill-color);\n",
              "      border-top-color: var(--fill-color);\n",
              "    }\n",
              "    60% {\n",
              "      border-color: transparent;\n",
              "      border-right-color: var(--fill-color);\n",
              "    }\n",
              "    80% {\n",
              "      border-color: transparent;\n",
              "      border-right-color: var(--fill-color);\n",
              "      border-bottom-color: var(--fill-color);\n",
              "    }\n",
              "    90% {\n",
              "      border-color: transparent;\n",
              "      border-bottom-color: var(--fill-color);\n",
              "    }\n",
              "  }\n",
              "</style>\n",
              "\n",
              "  <script>\n",
              "    async function quickchart(key) {\n",
              "      const quickchartButtonEl =\n",
              "        document.querySelector('#' + key + ' button');\n",
              "      quickchartButtonEl.disabled = true;  // To prevent multiple clicks.\n",
              "      quickchartButtonEl.classList.add('colab-df-spinner');\n",
              "      try {\n",
              "        const charts = await google.colab.kernel.invokeFunction(\n",
              "            'suggestCharts', [key], {});\n",
              "      } catch (error) {\n",
              "        console.error('Error during call to suggestCharts:', error);\n",
              "      }\n",
              "      quickchartButtonEl.classList.remove('colab-df-spinner');\n",
              "      quickchartButtonEl.classList.add('colab-df-quickchart-complete');\n",
              "    }\n",
              "    (() => {\n",
              "      let quickchartButtonEl =\n",
              "        document.querySelector('#df-b343cfe6-2a50-450d-ad95-37904f76fe29 button');\n",
              "      quickchartButtonEl.style.display =\n",
              "        google.colab.kernel.accessAllowed ? 'block' : 'none';\n",
              "    })();\n",
              "  </script>\n",
              "</div>\n",
              "\n",
              "    </div>\n",
              "  </div>\n"
            ]
          },
          "metadata": {},
          "execution_count": 7
        }
      ],
      "source": [
        "dataset.head()"
      ]
    },
    {
      "cell_type": "markdown",
      "source": [
        "Visualize and Count Labels"
      ],
      "metadata": {
        "id": "uk90vAEYiJcL"
      }
    },
    {
      "cell_type": "code",
      "execution_count": 8,
      "metadata": {
        "id": "54dx-U5euEfn",
        "colab": {
          "base_uri": "https://localhost:8080/",
          "height": 472
        },
        "outputId": "68af01af-3add-4620-9f89-4c360b116d96"
      },
      "outputs": [
        {
          "output_type": "display_data",
          "data": {
            "text/plain": [
              "<Figure size 640x480 with 1 Axes>"
            ],
            "image/png": "[encoded data removed]"
          },
          "metadata": {}
        }
      ],
      "source": [
        "ax = dataset.groupby('label').count().plot(kind='bar', title='Distribution of data',\n",
        "                                               legend=False)\n",
        "ax = ax.set_xticklabels(['Negative','Positive'], rotation=0)"
      ]
    },
    {
      "cell_type": "markdown",
      "source": [
        "# **Data Preprocessing**"
      ],
      "metadata": {
        "id": "TJKR41Y2cIOs"
      }
    },
    {
      "cell_type": "code",
      "execution_count": 12,
      "metadata": {
        "id": "TtFpd1kduHnh"
      },
      "outputs": [],
      "source": [
        "contractions = pd.read_csv('/content/drive/MyDrive/IMDB_Dataset/archive.zip', index_col='Contraction')\n",
        "contractions.index = contractions.index.str.lower()\n",
        "contractions.Meaning = contractions.Meaning.str.lower()\n",
        "contractions_dict = contractions.to_dict()['Meaning']\n",
        "\n",
        "# Defining regex patterns.\n",
        "linebreaks        = \"<br /><br />\"\n",
        "alphaPattern      = \"[^a-z0-9<>]\"\n",
        "sequencePattern   = r\"(.)\\1\\1+\"\n",
        "seqReplacePattern = r\"\\1\\1\"\n",
        "\n",
        "# Defining regex for emojis\n",
        "smileemoji        = r\"[8:=;]['`\\-]?[)d]+\"\n",
        "sademoji          = r\"[8:=;]['`\\-]?\\(+\"\n",
        "neutralemoji      = r\"[8:=;]['`\\-]?[\\/|l*]\"\n",
        "lolemoji          = r\"[8:=;]['`\\-]?p+\"\n",
        "\n",
        "def preprocess_reviews(review):\n",
        "\n",
        "    review = review.lower()\n",
        "\n",
        "    review = re.sub(linebreaks,\" \",review)\n",
        "    # Replace 3 or more consecutive letters by 2 letter.\n",
        "    review = re.sub(sequencePattern, seqReplacePattern, review)\n",
        "\n",
        "    # Replace all emojis.\n",
        "    review = re.sub(r'<3', '<heart>', review)\n",
        "    review = re.sub(smileemoji, '<smile>', review)\n",
        "    review = re.sub(sademoji, '<sadface>', review)\n",
        "    review = re.sub(neutralemoji, '<neutralface>', review)\n",
        "    review = re.sub(lolemoji, '<lolface>', review)\n",
        "\n",
        "    for contraction, replacement in contractions_dict.items():\n",
        "        review = review.replace(contraction, replacement)\n",
        "\n",
        "    # Remove non-alphanumeric and symbols\n",
        "    review = re.sub(alphaPattern, ' ', review)\n",
        "\n",
        "    # Adding space on either side of '/' to seperate words (After replacing URLS).\n",
        "    review = re.sub(r'/', ' / ', review)\n",
        "    return review"
      ]
    },
    {
      "cell_type": "code",
      "execution_count": 17,
      "metadata": {
        "id": "ivVbD2_swdsV"
      },
      "outputs": [],
      "source": [
        "dataset['cleaned_review'] = dataset.text.apply(preprocess_reviews)"
      ]
    },
    {
      "cell_type": "code",
      "execution_count": 18,
      "metadata": {
        "id": "dQ5umPXNxCBi",
        "colab": {
          "base_uri": "https://localhost:8080/"
        },
        "outputId": "fc24e6b7-fa20-4d44-aa3d-3f8b13eea898"
      },
      "outputs": [
        {
          "output_type": "stream",
          "name": "stderr",
          "text": [
            "[nltk_data] Downloading package stopwords to /root/nltk_data...\n",
            "[nltk_data]   Package stopwords is already up-to-date!\n"
          ]
        },
        {
          "output_type": "execute_result",
          "data": {
            "text/plain": [
              "True"
            ]
          },
          "metadata": {},
          "execution_count": 18
        }
      ],
      "source": [
        "nltk.download('stopwords')"
      ]
    },
    {
      "cell_type": "code",
      "execution_count": 20,
      "metadata": {
        "id": "8aEDP_XgwqyX",
        "colab": {
          "base_uri": "https://localhost:8080/"
        },
        "outputId": "9e2cd368-61dc-4314-f01f-8e0c7af2b2d6"
      },
      "outputs": [
        {
          "output_type": "stream",
          "name": "stderr",
          "text": [
            "[nltk_data] Downloading package omw-1.4 to /root/nltk_data...\n"
          ]
        }
      ],
      "source": [
        "stop_words = set(stopwords.words('english'))\n",
        "nltk.download('omw-1.4')\n",
        "lemmatizer = WordNetLemmatizer()"
      ]
    },
    {
      "cell_type": "code",
      "execution_count": 21,
      "metadata": {
        "id": "lga37BrLw0jx",
        "colab": {
          "base_uri": "https://localhost:8080/",
          "height": 122
        },
        "outputId": "64c27f83-78fd-4e6d-dc7c-5a01efc825a2"
      },
      "outputs": [
        {
          "output_type": "execute_result",
          "data": {
            "text/plain": [
              "'i grew up  b  1965  watching and loving the thunderbirds  all my mates at school watched  we played  thunderbirds  before school  during lunch and after school  we all wanted to be virgil or scott  no one wanted to be alan  counting down from 5 became an art form  i took my children to see the movie hoping they would get a glimpse of what i loved as a child  how bitterly disappointing  the only high point was the snappy theme tune  not that it could compare with the original score of the thunderbirds  thankfully early saturday mornings one television channel still plays reruns of the series gerry anderson and his wife created  jonatha frakes should hand in his directors chair  his version was completely hopeless  a waste of film  utter rubbish  a cgi remake may be acceptable but replacing marionettes with homo sapiens subsp  sapiens was a huge error of judgment '"
            ],
            "application/vnd.google.colaboratory.intrinsic+json": {
              "type": "string"
            }
          },
          "metadata": {},
          "execution_count": 21
        }
      ],
      "source": [
        "dataset[\"cleaned_review\"][0]"
      ]
    },
    {
      "cell_type": "code",
      "execution_count": 22,
      "metadata": {
        "id": "e3RxZ5SuxXTH",
        "colab": {
          "base_uri": "https://localhost:8080/"
        },
        "outputId": "377c95cf-63e1-45a3-f14d-5e39db981733"
      },
      "outputs": [
        {
          "output_type": "stream",
          "name": "stderr",
          "text": [
            "[nltk_data] Downloading package wordnet to /root/nltk_data...\n"
          ]
        },
        {
          "output_type": "execute_result",
          "data": {
            "text/plain": [
              "True"
            ]
          },
          "metadata": {},
          "execution_count": 22
        }
      ],
      "source": [
        "nltk.download('wordnet')"
      ]
    },
    {
      "cell_type": "code",
      "execution_count": 23,
      "metadata": {
        "id": "uBFjYwYXxJQJ",
        "colab": {
          "base_uri": "https://localhost:8080/"
        },
        "outputId": "8b364f7f-c6f0-4b0c-cfb4-15d64a8bcb61"
      },
      "outputs": [
        {
          "output_type": "stream",
          "name": "stderr",
          "text": [
            "<ipython-input-23-a1d7b3398b7b>:7: SettingWithCopyWarning: \n",
            "A value is trying to be set on a copy of a slice from a DataFrame\n",
            "\n",
            "See the caveats in the documentation: https://pandas.pydata.org/pandas-docs/stable/user_guide/indexing.html#returning-a-view-versus-a-copy\n",
            "  dataset[\"cleaned_review\"][i] = \" \".join(lis)\n"
          ]
        }
      ],
      "source": [
        "for i in range(len(dataset)):\n",
        "    lis = []\n",
        "    for words in dataset[\"cleaned_review\"][i].split():\n",
        "        if words not in stop_words:\n",
        "            words = lemmatizer.lemmatize(words)\n",
        "            lis.append(words)\n",
        "    dataset[\"cleaned_review\"][i] = \" \".join(lis)"
      ]
    },
    {
      "cell_type": "code",
      "execution_count": 24,
      "metadata": {
        "id": "g9mXeuJuxML9",
        "colab": {
          "base_uri": "https://localhost:8080/"
        },
        "outputId": "e9ac6ddb-f797-43b4-fb68-550e508b7782"
      },
      "outputs": [
        {
          "output_type": "stream",
          "name": "stdout",
          "text": [
            "kennan ivory wayans funny low dirty shame see one one worst done steven seagal help much start odd religious killing make much sense jim campbell keenan surprised see new partner waiting work side crack case jack cole seem everyone think jackis ex wife killed one ritual killing end making suspect well thing movie smoke past cia involvement trying normal cop steven dress like western movie prayer beeds top make thing little confusing\n"
          ]
        }
      ],
      "source": [
        "print(dataset[\"cleaned_review\"][69])"
      ]
    },
    {
      "cell_type": "code",
      "execution_count": 26,
      "metadata": {
        "id": "Vy8fUPaGxpOe"
      },
      "outputs": [],
      "source": [
        "data_pos = dataset[dataset[\"label\"]==1][\"cleaned_review\"]\n",
        "data_neg = dataset[dataset[\"label\"]==0][\"cleaned_review\"]"
      ]
    },
    {
      "cell_type": "code",
      "execution_count": 27,
      "metadata": {
        "id": "n2Rm1QzLyVqy",
        "colab": {
          "base_uri": "https://localhost:8080/"
        },
        "outputId": "e7865e56-f06a-4b2a-c15c-b271badc1a8d"
      },
      "outputs": [
        {
          "output_type": "stream",
          "name": "stdout",
          "text": [
            "Data Split done.\n"
          ]
        }
      ],
      "source": [
        "X_data, y_data = np.array(dataset['cleaned_review']), np.array(dataset['label'])\n",
        "\n",
        "X_train, X_test, y_train, y_test = train_test_split(X_data, y_data,\n",
        "                                                    test_size = 0.05, random_state = 0)\n",
        "print('Data Split done.')"
      ]
    },
    {
      "cell_type": "code",
      "execution_count": 28,
      "metadata": {
        "id": "bN49ou2syX7d"
      },
      "outputs": [],
      "source": [
        "Embedding_dimensions = 100\n",
        "\n",
        "# Creating Word2Vec training dataset.\n",
        "Word2vec_train_data = list(map(lambda x: x.split(), X_train))"
      ]
    },
    {
      "cell_type": "code",
      "execution_count": 29,
      "metadata": {
        "colab": {
          "base_uri": "https://localhost:8080/"
        },
        "id": "Lkpn4SVGyfnY",
        "outputId": "1083e923-fb5b-4e8b-c249-96e6f83ffc83"
      },
      "outputs": [
        {
          "output_type": "stream",
          "name": "stdout",
          "text": [
            "Vocabulary Length: 32781\n"
          ]
        }
      ],
      "source": [
        "# Defining the model and training it.\n",
        "word2vec_model = Word2Vec(Word2vec_train_data,\n",
        "                 vector_size=Embedding_dimensions,\n",
        "                 workers=8,\n",
        "                 min_count=5)\n",
        "\n",
        "print(\"Vocabulary Length:\", len(word2vec_model.wv.key_to_index))"
      ]
    },
    {
      "cell_type": "code",
      "execution_count": 31,
      "metadata": {
        "id": "QUB45dnKyubh",
        "colab": {
          "base_uri": "https://localhost:8080/"
        },
        "outputId": "6d098c95-5d65-45e5-fc42-d5d3c2c2f1ee"
      },
      "outputs": [
        {
          "output_type": "stream",
          "name": "stdout",
          "text": [
            "Tokenizer vocab length: 35000\n"
          ]
        }
      ],
      "source": [
        "input_length = 750\n",
        "vocab_length = 35000\n",
        "\n",
        "tokenizer = Tokenizer(filters=\"\", lower=False, oov_token=\"<oov>\")\n",
        "tokenizer.fit_on_texts(X_data)\n",
        "tokenizer.num_words = vocab_length\n",
        "print(\"Tokenizer vocab length:\", vocab_length)"
      ]
    },
    {
      "cell_type": "code",
      "execution_count": 32,
      "metadata": {
        "id": "OxOTz1uwywt4",
        "colab": {
          "base_uri": "https://localhost:8080/"
        },
        "outputId": "9602dbbd-d6f4-4d94-d7d7-adb7500e620e"
      },
      "outputs": [
        {
          "output_type": "stream",
          "name": "stdout",
          "text": [
            "X_train.shape: (38000, 750)\n",
            "X_test.shape : (2000, 750)\n"
          ]
        }
      ],
      "source": [
        "X_train = pad_sequences(tokenizer.texts_to_sequences(X_train), maxlen=input_length)\n",
        "X_test  = pad_sequences(tokenizer.texts_to_sequences(X_test) , maxlen=input_length)\n",
        "\n",
        "print(\"X_train.shape:\", X_train.shape)\n",
        "print(\"X_test.shape :\", X_test.shape)"
      ]
    },
    {
      "cell_type": "code",
      "execution_count": 33,
      "metadata": {
        "id": "sRuTOWczyzgM",
        "colab": {
          "base_uri": "https://localhost:8080/"
        },
        "outputId": "0cbd1de3-cf33-458e-9467-4b090243fa8f"
      },
      "outputs": [
        {
          "output_type": "stream",
          "name": "stdout",
          "text": [
            "Embedding Matrix Shape: (35000, 100)\n"
          ]
        }
      ],
      "source": [
        "embedding_matrix = np.zeros((vocab_length, Embedding_dimensions))\n",
        "\n",
        "for word, token in tokenizer.word_index.items():\n",
        "    if word2vec_model.wv.__contains__(word):\n",
        "        embedding_matrix[token] = word2vec_model.wv.__getitem__(word)\n",
        "\n",
        "print(\"Embedding Matrix Shape:\", embedding_matrix.shape)"
      ]
    },
    {
      "cell_type": "markdown",
      "source": [
        "# Pre-Trained Models"
      ],
      "metadata": {
        "id": "BGas1s6mcov7"
      }
    },
    {
      "cell_type": "markdown",
      "metadata": {
        "id": "VDeiYGmMxpt4"
      },
      "source": [
        "**1) LSTM**"
      ]
    },
    {
      "cell_type": "code",
      "execution_count": null,
      "metadata": {
        "id": "Q-ZSWZk9zWnP"
      },
      "outputs": [],
      "source": [
        "def getModel_LSTM():\n",
        "    embedding_layer = Embedding(input_dim = vocab_length,\n",
        "                                output_dim = Embedding_dimensions,\n",
        "                                weights=[embedding_matrix],\n",
        "                                input_length=input_length,\n",
        "                                trainable=False)\n",
        "\n",
        "    model = Sequential([\n",
        "        embedding_layer,\n",
        "        LSTM(64,return_sequences=True),\n",
        "        Dropout(0.2),\n",
        "        LSTM(32),\n",
        "        Dropout(0.2),\n",
        "        Dense(1,activation=\"sigmoid\")\n",
        "    ],\n",
        "    name=\"Sentiment_Model_LSTM\")\n",
        "    return model\n",
        "training_model_LSTM= getModel_LSTM()"
      ]
    },
    {
      "cell_type": "code",
      "execution_count": null,
      "metadata": {
        "colab": {
          "base_uri": "https://localhost:8080/"
        },
        "id": "wMQkRZ-cz3qb",
        "outputId": "daf72239-2a8c-4b1f-81a0-010013024ee2"
      },
      "outputs": [
        {
          "name": "stdout",
          "output_type": "stream",
          "text": [
            "Model: \"Sentiment_Model_LSTM\"\n",
            "_________________________________________________________________\n",
            " Layer (type)                Output Shape              Param #   \n",
            "=================================================================\n",
            " embedding_3 (Embedding)     (None, 750, 100)          3500000   \n",
            "                                                                 \n",
            " lstm_2 (LSTM)               (None, 750, 64)           42240     \n",
            "                                                                 \n",
            " dropout_2 (Dropout)         (None, 750, 64)           0         \n",
            "                                                                 \n",
            " lstm_3 (LSTM)               (None, 32)                12416     \n",
            "                                                                 \n",
            " dropout_3 (Dropout)         (None, 32)                0         \n",
            "                                                                 \n",
            " dense_3 (Dense)             (None, 1)                 33        \n",
            "                                                                 \n",
            "=================================================================\n",
            "Total params: 3554689 (13.56 MB)\n",
            "Trainable params: 54689 (213.63 KB)\n",
            "Non-trainable params: 3500000 (13.35 MB)\n",
            "_________________________________________________________________\n"
          ]
        }
      ],
      "source": [
        "training_model_LSTM.summary()"
      ]
    },
    {
      "cell_type": "code",
      "execution_count": null,
      "metadata": {
        "id": "_EsHijaOz9Je"
      },
      "outputs": [],
      "source": [
        "training_model_LSTM.compile(loss='binary_crossentropy', optimizer='adam', metrics=['accuracy',\n",
        "                                                                                tf.keras.metrics.AUC(),\n",
        "                                                                                tf.keras.metrics.Recall(),\n",
        "                                                                                tf.keras.metrics.Precision(),\n",
        "                                                                                tf.keras.metrics.FalseNegatives(),\n",
        "                                                                                tf.keras.metrics.FalsePositives(),\n",
        "                                                                                tf.keras.metrics.TrueNegatives(),\n",
        "                                                                                tf.keras.metrics.TruePositives(),\n",
        "                                                                                tf.keras.metrics.F1Score()\n",
        "                                                                                  ])"
      ]
    },
    {
      "cell_type": "code",
      "execution_count": null,
      "metadata": {
        "id": "OgxwejRZ00NW"
      },
      "outputs": [],
      "source": [
        "callbacks = [ReduceLROnPlateau(monitor='val_loss', patience=5, cooldown=0),\n",
        "             EarlyStopping(monitor='val_accuracy', min_delta=1e-4, patience=5)]"
      ]
    },
    {
      "cell_type": "code",
      "execution_count": null,
      "metadata": {
        "id": "F2D7RkQ80XVl"
      },
      "outputs": [],
      "source": [
        "# Print some information about data\n",
        "print(\"X_train shape:\", X_train.shape)\n",
        "print(\"y_train shape:\", y_train.shape)\n",
        "print(\"Sample X_train:\", X_train[0])\n",
        "print(\"Sample y_train:\", y_train[0])\n"
      ]
    },
    {
      "cell_type": "code",
      "execution_count": null,
      "metadata": {
        "id": "YBtMR8q32Id9"
      },
      "outputs": [],
      "source": [
        "tf.config.run_functions_eagerly(True)"
      ]
    },
    {
      "cell_type": "code",
      "execution_count": null,
      "metadata": {
        "id": "LnlGmypXLnP6"
      },
      "outputs": [],
      "source": [
        "# Assuming y_train is label data\n",
        "y_train = y_train.astype('float32')"
      ]
    },
    {
      "cell_type": "code",
      "execution_count": null,
      "metadata": {
        "colab": {
          "base_uri": "https://localhost:8080/"
        },
        "id": "5joMY2wd0JFB",
        "outputId": "6fcab1dd-5516-4ebd-c75a-e7c1819902ad"
      },
      "outputs": [
        {
          "name": "stdout",
          "output_type": "stream",
          "text": [
            "Epoch 1/20\n"
          ]
        },
        {
          "name": "stderr",
          "output_type": "stream",
          "text": [
            "/usr/local/lib/python3.10/dist-packages/tensorflow/python/data/ops/structured_function.py:258: UserWarning: Even though the `tf.config.experimental_run_functions_eagerly` option is set, this option does not apply to tf.data functions. To force eager execution of tf.data functions, please use `tf.data.experimental.enable_debug_mode()`.\n",
            "  warnings.warn(\n"
          ]
        },
        {
          "name": "stdout",
          "output_type": "stream",
          "text": [
            "34/34 [==============================] - 864s 25s/step - loss: 0.5173 - accuracy: 0.7469 - auc_1: 0.8246 - recall_1: 0.7461 - precision_1: 0.7455 - false_negatives_1: 4321.0000 - false_positives_1: 4334.0000 - true_negatives_1: 12850.0000 - true_positives_1: 12695.0000 - f1_score: 0.6645 - val_loss: 0.4270 - val_accuracy: 0.8053 - val_auc_1: 0.8950 - val_recall_1: 0.8703 - val_precision_1: 0.7781 - val_false_negatives_1: 254.0000 - val_false_positives_1: 486.0000 - val_true_negatives_1: 1356.0000 - val_true_positives_1: 1704.0000 - val_f1_score: 0.6801 - lr: 0.0010\n",
            "Epoch 2/20\n",
            "34/34 [==============================] - 872s 25s/step - loss: 0.3748 - accuracy: 0.8414 - auc_1: 0.9135 - recall_1: 0.8490 - precision_1: 0.8349 - false_negatives_1: 2569.0000 - false_positives_1: 2856.0000 - true_negatives_1: 14328.0000 - true_positives_1: 14447.0000 - f1_score: 0.6645 - val_loss: 0.3389 - val_accuracy: 0.8529 - val_auc_1: 0.9349 - val_recall_1: 0.9055 - val_precision_1: 0.8258 - val_false_negatives_1: 185.0000 - val_false_positives_1: 374.0000 - val_true_negatives_1: 1468.0000 - val_true_positives_1: 1773.0000 - val_f1_score: 0.6801 - lr: 0.0010\n",
            "Epoch 3/20\n",
            "34/34 [==============================] - 767s 23s/step - loss: 0.3236 - accuracy: 0.8639 - auc_1: 0.9358 - recall_1: 0.8718 - precision_1: 0.8571 - false_negatives_1: 2182.0000 - false_positives_1: 2474.0000 - true_negatives_1: 14710.0000 - true_positives_1: 14834.0000 - f1_score: 0.6645 - val_loss: 0.3042 - val_accuracy: 0.8705 - val_auc_1: 0.9442 - val_recall_1: 0.8984 - val_precision_1: 0.8572 - val_false_negatives_1: 199.0000 - val_false_positives_1: 293.0000 - val_true_negatives_1: 1549.0000 - val_true_positives_1: 1759.0000 - val_f1_score: 0.6801 - lr: 0.0010\n",
            "Epoch 4/20\n",
            "34/34 [==============================] - 763s 22s/step - loss: 0.3007 - accuracy: 0.8760 - auc_1: 0.9444 - recall_1: 0.8815 - precision_1: 0.8708 - false_negatives_1: 2017.0000 - false_positives_1: 2225.0000 - true_negatives_1: 14959.0000 - true_positives_1: 14999.0000 - f1_score: 0.6645 - val_loss: 0.2931 - val_accuracy: 0.8766 - val_auc_1: 0.9498 - val_recall_1: 0.9173 - val_precision_1: 0.8540 - val_false_negatives_1: 162.0000 - val_false_positives_1: 307.0000 - val_true_negatives_1: 1535.0000 - val_true_positives_1: 1796.0000 - val_f1_score: 0.6801 - lr: 0.0010\n",
            "Epoch 5/20\n",
            "34/34 [==============================] - 772s 23s/step - loss: 0.2940 - accuracy: 0.8775 - auc_1: 0.9469 - recall_1: 0.8845 - precision_1: 0.8712 - false_negatives_1: 1965.0000 - false_positives_1: 2225.0000 - true_negatives_1: 14959.0000 - true_positives_1: 15051.0000 - f1_score: 0.6645 - val_loss: 0.2813 - val_accuracy: 0.8826 - val_auc_1: 0.9524 - val_recall_1: 0.8912 - val_precision_1: 0.8822 - val_false_negatives_1: 213.0000 - val_false_positives_1: 233.0000 - val_true_negatives_1: 1609.0000 - val_true_positives_1: 1745.0000 - val_f1_score: 0.6801 - lr: 0.0010\n",
            "Epoch 6/20\n",
            "34/34 [==============================] - 770s 23s/step - loss: 0.2794 - accuracy: 0.8846 - auc_1: 0.9521 - recall_1: 0.8885 - precision_1: 0.8807 - false_negatives_1: 1898.0000 - false_positives_1: 2048.0000 - true_negatives_1: 15136.0000 - true_positives_1: 15118.0000 - f1_score: 0.6645 - val_loss: 0.2802 - val_accuracy: 0.8816 - val_auc_1: 0.9529 - val_recall_1: 0.8979 - val_precision_1: 0.8755 - val_false_negatives_1: 200.0000 - val_false_positives_1: 250.0000 - val_true_negatives_1: 1592.0000 - val_true_positives_1: 1758.0000 - val_f1_score: 0.6801 - lr: 0.0010\n",
            "Epoch 7/20\n",
            "34/34 [==============================] - 768s 23s/step - loss: 0.2701 - accuracy: 0.8892 - auc_1: 0.9552 - recall_1: 0.8942 - precision_1: 0.8844 - false_negatives_1: 1801.0000 - false_positives_1: 1988.0000 - true_negatives_1: 15196.0000 - true_positives_1: 15215.0000 - f1_score: 0.6645 - val_loss: 0.2772 - val_accuracy: 0.8847 - val_auc_1: 0.9545 - val_recall_1: 0.9198 - val_precision_1: 0.8650 - val_false_negatives_1: 157.0000 - val_false_positives_1: 281.0000 - val_true_negatives_1: 1561.0000 - val_true_positives_1: 1801.0000 - val_f1_score: 0.6801 - lr: 0.0010\n",
            "Epoch 8/20\n",
            "34/34 [==============================] - 829s 25s/step - loss: 0.2569 - accuracy: 0.8940 - auc_1: 0.9595 - recall_1: 0.8988 - precision_1: 0.8894 - false_negatives_1: 1722.0000 - false_positives_1: 1902.0000 - true_negatives_1: 15282.0000 - true_positives_1: 15294.0000 - f1_score: 0.6645 - val_loss: 0.2809 - val_accuracy: 0.8792 - val_auc_1: 0.9574 - val_recall_1: 0.8335 - val_precision_1: 0.9246 - val_false_negatives_1: 326.0000 - val_false_positives_1: 133.0000 - val_true_negatives_1: 1709.0000 - val_true_positives_1: 1632.0000 - val_f1_score: 0.6801 - lr: 0.0010\n",
            "Epoch 9/20\n",
            "34/34 [==============================] - 846s 25s/step - loss: 0.2568 - accuracy: 0.8942 - auc_1: 0.9596 - recall_1: 0.8959 - precision_1: 0.8918 - false_negatives_1: 1771.0000 - false_positives_1: 1849.0000 - true_negatives_1: 15335.0000 - true_positives_1: 15245.0000 - f1_score: 0.6645 - val_loss: 0.2709 - val_accuracy: 0.8839 - val_auc_1: 0.9582 - val_recall_1: 0.8524 - val_precision_1: 0.9165 - val_false_negatives_1: 289.0000 - val_false_positives_1: 152.0000 - val_true_negatives_1: 1690.0000 - val_true_positives_1: 1669.0000 - val_f1_score: 0.6801 - lr: 0.0010\n",
            "Epoch 10/20\n",
            "34/34 [==============================] - 899s 26s/step - loss: 0.2447 - accuracy: 0.9001 - auc_1: 0.9632 - recall_1: 0.9034 - precision_1: 0.8966 - false_negatives_1: 1644.0000 - false_positives_1: 1772.0000 - true_negatives_1: 15412.0000 - true_positives_1: 15372.0000 - f1_score: 0.6645 - val_loss: 0.2750 - val_accuracy: 0.8850 - val_auc_1: 0.9563 - val_recall_1: 0.8892 - val_precision_1: 0.8878 - val_false_negatives_1: 217.0000 - val_false_positives_1: 220.0000 - val_true_negatives_1: 1622.0000 - val_true_positives_1: 1741.0000 - val_f1_score: 0.6801 - lr: 0.0010\n",
            "Epoch 11/20\n",
            "34/34 [==============================] - 870s 26s/step - loss: 0.2419 - accuracy: 0.9024 - auc_1: 0.9640 - recall_1: 0.9016 - precision_1: 0.9022 - false_negatives_1: 1675.0000 - false_positives_1: 1663.0000 - true_negatives_1: 15521.0000 - true_positives_1: 15341.0000 - f1_score: 0.6645 - val_loss: 0.2671 - val_accuracy: 0.8874 - val_auc_1: 0.9581 - val_recall_1: 0.8754 - val_precision_1: 0.9031 - val_false_negatives_1: 244.0000 - val_false_positives_1: 184.0000 - val_true_negatives_1: 1658.0000 - val_true_positives_1: 1714.0000 - val_f1_score: 0.6801 - lr: 0.0010\n",
            "Epoch 12/20\n",
            "34/34 [==============================] - 919s 27s/step - loss: 0.2399 - accuracy: 0.9044 - auc_1: 0.9646 - recall_1: 0.9062 - precision_1: 0.9021 - false_negatives_1: 1596.0000 - false_positives_1: 1674.0000 - true_negatives_1: 15510.0000 - true_positives_1: 15420.0000 - f1_score: 0.6645 - val_loss: 0.2596 - val_accuracy: 0.8913 - val_auc_1: 0.9600 - val_recall_1: 0.8948 - val_precision_1: 0.8943 - val_false_negatives_1: 206.0000 - val_false_positives_1: 207.0000 - val_true_negatives_1: 1635.0000 - val_true_positives_1: 1752.0000 - val_f1_score: 0.6801 - lr: 0.0010\n",
            "Epoch 13/20\n",
            "34/34 [==============================] - 899s 26s/step - loss: 0.2345 - accuracy: 0.9057 - auc_1: 0.9662 - recall_1: 0.9086 - precision_1: 0.9026 - false_negatives_1: 1556.0000 - false_positives_1: 1668.0000 - true_negatives_1: 15516.0000 - true_positives_1: 15460.0000 - f1_score: 0.6645 - val_loss: 0.2769 - val_accuracy: 0.8916 - val_auc_1: 0.9579 - val_recall_1: 0.9198 - val_precision_1: 0.8760 - val_false_negatives_1: 157.0000 - val_false_positives_1: 255.0000 - val_true_negatives_1: 1587.0000 - val_true_positives_1: 1801.0000 - val_f1_score: 0.6801 - lr: 0.0010\n",
            "Epoch 14/20\n",
            "34/34 [==============================] - 957s 28s/step - loss: 0.2208 - accuracy: 0.9132 - auc_1: 0.9699 - recall_1: 0.9161 - precision_1: 0.9100 - false_negatives_1: 1427.0000 - false_positives_1: 1541.0000 - true_negatives_1: 15643.0000 - true_positives_1: 15589.0000 - f1_score: 0.6645 - val_loss: 0.2615 - val_accuracy: 0.8932 - val_auc_1: 0.9605 - val_recall_1: 0.8938 - val_precision_1: 0.8984 - val_false_negatives_1: 208.0000 - val_false_positives_1: 198.0000 - val_true_negatives_1: 1644.0000 - val_true_positives_1: 1750.0000 - val_f1_score: 0.6801 - lr: 0.0010\n",
            "Epoch 15/20\n",
            "34/34 [==============================] - 859s 25s/step - loss: 0.2148 - accuracy: 0.9144 - auc_1: 0.9714 - recall_1: 0.9169 - precision_1: 0.9116 - false_negatives_1: 1414.0000 - false_positives_1: 1513.0000 - true_negatives_1: 15671.0000 - true_positives_1: 15602.0000 - f1_score: 0.6645 - val_loss: 0.2627 - val_accuracy: 0.8913 - val_auc_1: 0.9599 - val_recall_1: 0.9086 - val_precision_1: 0.8838 - val_false_negatives_1: 179.0000 - val_false_positives_1: 234.0000 - val_true_negatives_1: 1608.0000 - val_true_positives_1: 1779.0000 - val_f1_score: 0.6801 - lr: 0.0010\n",
            "Epoch 16/20\n",
            "34/34 [==============================] - 862s 25s/step - loss: 0.2083 - accuracy: 0.9169 - auc_1: 0.9731 - recall_1: 0.9183 - precision_1: 0.9150 - false_negatives_1: 1390.0000 - false_positives_1: 1452.0000 - true_negatives_1: 15732.0000 - true_positives_1: 15626.0000 - f1_score: 0.6645 - val_loss: 0.2620 - val_accuracy: 0.8934 - val_auc_1: 0.9607 - val_recall_1: 0.8973 - val_precision_1: 0.8960 - val_false_negatives_1: 201.0000 - val_false_positives_1: 204.0000 - val_true_negatives_1: 1638.0000 - val_true_positives_1: 1757.0000 - val_f1_score: 0.6801 - lr: 0.0010\n",
            "Epoch 17/20\n",
            "34/34 [==============================] - 864s 25s/step - loss: 0.2044 - accuracy: 0.9197 - auc_1: 0.9740 - recall_1: 0.9223 - precision_1: 0.9169 - false_negatives_1: 1322.0000 - false_positives_1: 1423.0000 - true_negatives_1: 15761.0000 - true_positives_1: 15694.0000 - f1_score: 0.6645 - val_loss: 0.2687 - val_accuracy: 0.8897 - val_auc_1: 0.9614 - val_recall_1: 0.8621 - val_precision_1: 0.9189 - val_false_negatives_1: 270.0000 - val_false_positives_1: 149.0000 - val_true_negatives_1: 1693.0000 - val_true_positives_1: 1688.0000 - val_f1_score: 0.6801 - lr: 0.0010\n",
            "Epoch 18/20\n",
            "34/34 [==============================] - 852s 25s/step - loss: 0.1933 - accuracy: 0.9241 - auc_1: 0.9767 - recall_1: 0.9275 - precision_1: 0.9205 - false_negatives_1: 1233.0000 - false_positives_1: 1364.0000 - true_negatives_1: 15820.0000 - true_positives_1: 15783.0000 - f1_score: 0.6645 - val_loss: 0.2644 - val_accuracy: 0.8900 - val_auc_1: 0.9608 - val_recall_1: 0.8820 - val_precision_1: 0.9023 - val_false_negatives_1: 231.0000 - val_false_positives_1: 187.0000 - val_true_negatives_1: 1655.0000 - val_true_positives_1: 1727.0000 - val_f1_score: 0.6801 - lr: 1.0000e-04\n",
            "Epoch 19/20\n",
            "34/34 [==============================] - 866s 25s/step - loss: 0.1874 - accuracy: 0.9273 - auc_1: 0.9779 - recall_1: 0.9302 - precision_1: 0.9242 - false_negatives_1: 1188.0000 - false_positives_1: 1298.0000 - true_negatives_1: 15886.0000 - true_positives_1: 15828.0000 - f1_score: 0.6645 - val_loss: 0.2686 - val_accuracy: 0.8911 - val_auc_1: 0.9601 - val_recall_1: 0.8943 - val_precision_1: 0.8943 - val_false_negatives_1: 207.0000 - val_false_positives_1: 207.0000 - val_true_negatives_1: 1635.0000 - val_true_positives_1: 1751.0000 - val_f1_score: 0.6801 - lr: 1.0000e-04\n",
            "Epoch 20/20\n",
            "34/34 [==============================] - 919s 27s/step - loss: 0.1868 - accuracy: 0.9269 - auc_1: 0.9781 - recall_1: 0.9296 - precision_1: 0.9239 - false_negatives_1: 1198.0000 - false_positives_1: 1303.0000 - true_negatives_1: 15881.0000 - true_positives_1: 15818.0000 - f1_score: 0.6645 - val_loss: 0.2690 - val_accuracy: 0.8918 - val_auc_1: 0.9601 - val_recall_1: 0.8933 - val_precision_1: 0.8965 - val_false_negatives_1: 209.0000 - val_false_positives_1: 202.0000 - val_true_negatives_1: 1640.0000 - val_true_positives_1: 1749.0000 - val_f1_score: 0.6801 - lr: 1.0000e-04\n"
          ]
        }
      ],
      "source": [
        "history_LSTM = training_model_LSTM.fit(\n",
        "    X_train, y_train,\n",
        "    batch_size=1024,\n",
        "    epochs=20,\n",
        "    validation_split=0.1,\n",
        "    callbacks=callbacks,\n",
        "    verbose=1,\n",
        ")"
      ]
    },
    {
      "cell_type": "code",
      "source": [
        "# Predicting on the Test dataset.\n",
        "# y_pred_LSTM = training_model_LSTM.predict(X_test)\n",
        "y_pred_LSTM = loaded_model_LSTM.predict(X_test)\n",
        "\n",
        "# Converting prediction to reflect the sentiment predicted.\n",
        "# y_pred_LSTM = np.where(y_pred_LSTM>=0.5, 1, 0)\n",
        "y_pred_LSTM = np.where(y_pred_LSTM>=0.5, 1, 0)"
      ],
      "metadata": {
        "colab": {
          "base_uri": "https://localhost:8080/"
        },
        "id": "Z48KazEBCzFo",
        "outputId": "d38ea8f1-e2cc-42d0-ad91-deeb5ddd22ff"
      },
      "execution_count": null,
      "outputs": [
        {
          "output_type": "stream",
          "name": "stdout",
          "text": [
            "63/63 [==============================] - 3s 20ms/step\n"
          ]
        }
      ]
    },
    {
      "cell_type": "code",
      "source": [
        "# Calculate evaluation metrics\n",
        "accuracy = accuracy_score(y_test, y_pred_LSTM)\n",
        "precision = precision_score(y_test, y_pred_LSTM)\n",
        "recall = recall_score(y_test, y_pred_LSTM)\n",
        "f1 = f1_score(y_test, y_pred_LSTM)\n",
        "conf_matrix = confusion_matrix(y_test, y_pred_LSTM)\n",
        "\n",
        "# Print the metrics\n",
        "print(f'Accuracy: {accuracy:.2f}')\n",
        "print(f'Precision: {precision:.2f}')\n",
        "print(f'Recall: {recall:.2f}')\n",
        "print(f'F1 Score: {f1:.2f}')\n",
        "\n",
        "print('confusion_matrix:',conf_matrix)"
      ],
      "metadata": {
        "colab": {
          "base_uri": "https://localhost:8080/"
        },
        "id": "onoUk97KCqcS",
        "outputId": "cd45b9ea-f88f-4d06-d89d-d6161dec7df6"
      },
      "execution_count": null,
      "outputs": [
        {
          "output_type": "stream",
          "name": "stdout",
          "text": [
            "Accuracy: 0.89\n",
            "Precision: 0.91\n",
            "Recall: 0.88\n",
            "F1 Score: 0.89\n",
            "confusion_matrix: [[901  92]\n",
            " [121 886]]\n"
          ]
        }
      ]
    },
    {
      "cell_type": "code",
      "execution_count": null,
      "metadata": {
        "colab": {
          "base_uri": "https://localhost:8080/",
          "height": 881
        },
        "id": "u7kgDTKiaJiu",
        "outputId": "f5680268-2858-401b-b663-c577530444f7"
      },
      "outputs": [
        {
          "data": {
            "image/png": "[encoded data removed]",
            "text/plain": [
              "<Figure size 640x480 with 1 Axes>"
            ]
          },
          "metadata": {},
          "output_type": "display_data"
        },
        {
          "data": {
            "image/png": "[encoded data removed]",
            "text/plain": [
              "<Figure size 640x480 with 1 Axes>"
            ]
          },
          "metadata": {},
          "output_type": "display_data"
        }
      ],
      "source": [
        "import matplotlib.pyplot as plt\n",
        "\n",
        "# Assuming you have the 'history' object\n",
        "loss = history_LSTM.history['loss']\n",
        "val_loss = history_LSTM.history['val_loss']\n",
        "acc = history_LSTM.history['accuracy']\n",
        "val_acc = history_LSTM.history['val_accuracy']\n",
        "\n",
        "# Plotting loss\n",
        "plt.plot(loss, label='Training Loss')\n",
        "plt.plot(val_loss, label='Validation Loss')\n",
        "plt.xlabel('Epochs')\n",
        "plt.ylabel('Loss')\n",
        "plt.legend()\n",
        "plt.show()\n",
        "\n",
        "# Plotting accuracy\n",
        "plt.plot(acc, label='Training Accuracy')\n",
        "plt.plot(val_acc, label='Validation Accuracy')\n",
        "plt.xlabel('Epochs')\n",
        "plt.ylabel('Accuracy')\n",
        "plt.legend()\n",
        "plt.show()\n"
      ]
    },
    {
      "cell_type": "code",
      "source": [
        "class_names = ['0', '1']\n",
        "\n",
        "# Plot the confusion matrix\n",
        "plt.imshow(conf_matrix, interpolation='nearest', cmap=plt.cm.Blues)\n",
        "plt.title('Confusion Matrix of LSTM')\n",
        "plt.colorbar()\n",
        "\n",
        "# Add labels\n",
        "tick_marks = np.arange(len(class_names))\n",
        "plt.xticks(tick_marks, class_names, rotation=45)\n",
        "plt.yticks(tick_marks, class_names)\n",
        "\n",
        "# Add text annotations\n",
        "for i in range(len(class_names)):\n",
        "    for j in range(len(class_names)):\n",
        "        plt.text(j, i, str(conf_matrix[i, j]), ha='center', va='center', color='white' if conf_matrix[i, j] > conf_matrix.max() / 2 else 'black')\n",
        "\n",
        "plt.xlabel('Predicted')\n",
        "plt.ylabel('True Label')\n",
        "plt.show()"
      ],
      "metadata": {
        "colab": {
          "base_uri": "https://localhost:8080/",
          "height": 474
        },
        "id": "YcgG8H5UDZUL",
        "outputId": "35a68708-d463-4947-8541-0d67592dbe6d"
      },
      "execution_count": null,
      "outputs": [
        {
          "output_type": "display_data",
          "data": {
            "text/plain": [
              "<Figure size 640x480 with 2 Axes>"
            ],
            "image/png": "[encoded data removed]"
          },
          "metadata": {}
        }
      ]
    },
    {
      "cell_type": "markdown",
      "metadata": {
        "id": "wOuBax4Qxw2w"
      },
      "source": [
        "**2) LSTM**(Bideractional)"
      ]
    },
    {
      "cell_type": "code",
      "execution_count": null,
      "metadata": {
        "id": "GZ14hO804jZM"
      },
      "outputs": [],
      "source": [
        "def getModel_Bideractional():\n",
        "    embedding_layer = Embedding(input_dim = vocab_length,\n",
        "                                output_dim = Embedding_dimensions,\n",
        "                                weights=[embedding_matrix],\n",
        "                                input_length=input_length,\n",
        "                                trainable=False)\n",
        "\n",
        "    model = Sequential([\n",
        "        embedding_layer,\n",
        "        Bidirectional(LSTM(35,return_sequences=True)),\n",
        "        GlobalMaxPool1D(),\n",
        "        Dense(40, activation=\"relu\"),\n",
        "        Dropout(0.5),\n",
        "        Dense(20, activation=\"relu\"),\n",
        "        Dropout(0.5),\n",
        "        Dense(1, activation=\"sigmoid\"),\n",
        "    ],\n",
        "    name=\"Sentiment_Model_LSTM_Bidirectional\")\n",
        "    return model\n",
        "\n",
        "training_model_Bideractional= getModel_Bideractional()"
      ]
    },
    {
      "cell_type": "code",
      "execution_count": null,
      "metadata": {
        "colab": {
          "base_uri": "https://localhost:8080/"
        },
        "id": "DRjDNXCf1YWr",
        "outputId": "b8a9ca68-6d0b-467b-b249-e080e55cc98d"
      },
      "outputs": [
        {
          "name": "stdout",
          "output_type": "stream",
          "text": [
            "Model: \"Sentiment_Model_LSTM_Bidirectional\"\n",
            "_________________________________________________________________\n",
            " Layer (type)                Output Shape              Param #   \n",
            "=================================================================\n",
            " embedding (Embedding)       (None, 750, 100)          3500000   \n",
            "                                                                 \n",
            " bidirectional (Bidirection  (None, 750, 70)           38080     \n",
            " al)                                                             \n",
            "                                                                 \n",
            " global_max_pooling1d (Glob  (None, 70)                0         \n",
            " alMaxPooling1D)                                                 \n",
            "                                                                 \n",
            " dense (Dense)               (None, 40)                2840      \n",
            "                                                                 \n",
            " dropout (Dropout)           (None, 40)                0         \n",
            "                                                                 \n",
            " dense_1 (Dense)             (None, 20)                820       \n",
            "                                                                 \n",
            " dropout_1 (Dropout)         (None, 20)                0         \n",
            "                                                                 \n",
            " dense_2 (Dense)             (None, 1)                 21        \n",
            "                                                                 \n",
            "=================================================================\n",
            "Total params: 3541761 (13.51 MB)\n",
            "Trainable params: 41761 (163.13 KB)\n",
            "Non-trainable params: 3500000 (13.35 MB)\n",
            "_________________________________________________________________\n"
          ]
        }
      ],
      "source": [
        "training_model_Bideractional.summary()"
      ]
    },
    {
      "cell_type": "code",
      "execution_count": null,
      "metadata": {
        "id": "jdCWNYkb48hV"
      },
      "outputs": [],
      "source": [
        "training_model_Bideractional.compile(loss='binary_crossentropy', optimizer='adam', metrics=['accuracy',\n",
        "                                                                                            tf.keras.metrics.AUC(),\n",
        "                                                                                            tf.keras.metrics.Recall(),\n",
        "                                                                                            tf.keras.metrics.Precision(),\n",
        "                                                                                            tf.keras.metrics.FalseNegatives(),\n",
        "                                                                                            tf.keras.metrics.FalsePositives(),\n",
        "                                                                                            tf.keras.metrics.TrueNegatives(),\n",
        "                                                                                            tf.keras.metrics.TruePositives(),\n",
        "                                                                                            tf.keras.metrics.F1Score()\n",
        "                                                                                            ])"
      ]
    },
    {
      "cell_type": "code",
      "execution_count": null,
      "metadata": {
        "colab": {
          "base_uri": "https://localhost:8080/"
        },
        "id": "Bdte7ifE5jX3",
        "outputId": "0afa428a-dc9b-4457-eec7-d21db1aa465f"
      },
      "outputs": [
        {
          "name": "stdout",
          "output_type": "stream",
          "text": [
            "Epoch 1/20\n"
          ]
        },
        {
          "name": "stderr",
          "output_type": "stream",
          "text": [
            "/usr/local/lib/python3.10/dist-packages/tensorflow/python/data/ops/structured_function.py:258: UserWarning: Even though the `tf.config.experimental_run_functions_eagerly` option is set, this option does not apply to tf.data functions. To force eager execution of tf.data functions, please use `tf.data.experimental.enable_debug_mode()`.\n",
            "  warnings.warn(\n"
          ]
        },
        {
          "name": "stdout",
          "output_type": "stream",
          "text": [
            "34/34 [==============================] - 915s 27s/step - loss: 0.6502 - accuracy: 0.6132 - auc: 0.6639 - recall: 0.5783 - precision: 0.6191 - false_negatives: 7176.0000 - false_positives: 6053.0000 - true_negatives: 11131.0000 - true_positives: 9840.0000 - f1_score: 0.6645 - val_loss: 0.5215 - val_accuracy: 0.8205 - val_auc: 0.8942 - val_recall: 0.8253 - val_precision: 0.8262 - val_false_negatives: 342.0000 - val_false_positives: 340.0000 - val_true_negatives: 1502.0000 - val_true_positives: 1616.0000 - val_f1_score: 0.6801 - lr: 0.0010\n",
            "Epoch 2/20\n",
            "34/34 [==============================] - 762s 22s/step - loss: 0.4816 - accuracy: 0.7842 - auc: 0.8597 - recall: 0.7943 - precision: 0.7770 - false_negatives: 3500.0000 - false_positives: 3879.0000 - true_negatives: 13305.0000 - true_positives: 13516.0000 - f1_score: 0.6645 - val_loss: 0.3402 - val_accuracy: 0.8571 - val_auc: 0.9361 - val_recall: 0.8907 - val_precision: 0.8413 - val_false_negatives: 214.0000 - val_false_positives: 329.0000 - val_true_negatives: 1513.0000 - val_true_positives: 1744.0000 - val_f1_score: 0.6801 - lr: 0.0010\n",
            "Epoch 3/20\n",
            "34/34 [==============================] - 764s 22s/step - loss: 0.3805 - accuracy: 0.8524 - auc: 0.9147 - recall: 0.8665 - precision: 0.8415 - false_negatives: 2272.0000 - false_positives: 2777.0000 - true_negatives: 14407.0000 - true_positives: 14744.0000 - f1_score: 0.6645 - val_loss: 0.3018 - val_accuracy: 0.8750 - val_auc: 0.9456 - val_recall: 0.8677 - val_precision: 0.8872 - val_false_negatives: 259.0000 - val_false_positives: 216.0000 - val_true_negatives: 1626.0000 - val_true_positives: 1699.0000 - val_f1_score: 0.6801 - lr: 0.0010\n",
            "Epoch 4/20\n",
            "34/34 [==============================] - 761s 22s/step - loss: 0.3462 - accuracy: 0.8680 - auc: 0.9296 - recall: 0.8820 - precision: 0.8569 - false_negatives: 2008.0000 - false_positives: 2506.0000 - true_negatives: 14678.0000 - true_positives: 15008.0000 - f1_score: 0.6645 - val_loss: 0.2890 - val_accuracy: 0.8797 - val_auc: 0.9498 - val_recall: 0.8795 - val_precision: 0.8863 - val_false_negatives: 236.0000 - val_false_positives: 221.0000 - val_true_negatives: 1621.0000 - val_true_positives: 1722.0000 - val_f1_score: 0.6801 - lr: 0.0010\n",
            "Epoch 5/20\n",
            "34/34 [==============================] - 759s 22s/step - loss: 0.3255 - accuracy: 0.8759 - auc: 0.9379 - recall: 0.8856 - precision: 0.8677 - false_negatives: 1946.0000 - false_positives: 2298.0000 - true_negatives: 14886.0000 - true_positives: 15070.0000 - f1_score: 0.6645 - val_loss: 0.2809 - val_accuracy: 0.8832 - val_auc: 0.9529 - val_recall: 0.9162 - val_precision: 0.8650 - val_false_negatives: 164.0000 - val_false_positives: 280.0000 - val_true_negatives: 1562.0000 - val_true_positives: 1794.0000 - val_f1_score: 0.6801 - lr: 0.0010\n",
            "Epoch 6/20\n",
            "34/34 [==============================] - 767s 23s/step - loss: 0.3112 - accuracy: 0.8826 - auc: 0.9436 - recall: 0.8979 - precision: 0.8702 - false_negatives: 1737.0000 - false_positives: 2279.0000 - true_negatives: 14905.0000 - true_positives: 15279.0000 - f1_score: 0.6645 - val_loss: 0.2751 - val_accuracy: 0.8874 - val_auc: 0.9541 - val_recall: 0.8973 - val_precision: 0.8856 - val_false_negatives: 201.0000 - val_false_positives: 227.0000 - val_true_negatives: 1615.0000 - val_true_positives: 1757.0000 - val_f1_score: 0.6801 - lr: 0.0010\n",
            "Epoch 7/20\n",
            "34/34 [==============================] - 765s 23s/step - loss: 0.2988 - accuracy: 0.8870 - auc: 0.9480 - recall: 0.8965 - precision: 0.8788 - false_negatives: 1761.0000 - false_positives: 2104.0000 - true_negatives: 15080.0000 - true_positives: 15255.0000 - f1_score: 0.6645 - val_loss: 0.2727 - val_accuracy: 0.8908 - val_auc: 0.9552 - val_recall: 0.8917 - val_precision: 0.8958 - val_false_negatives: 212.0000 - val_false_positives: 203.0000 - val_true_negatives: 1639.0000 - val_true_positives: 1746.0000 - val_f1_score: 0.6801 - lr: 0.0010\n",
            "Epoch 8/20\n",
            "34/34 [==============================] - 762s 22s/step - loss: 0.2858 - accuracy: 0.8928 - auc: 0.9521 - recall: 0.9013 - precision: 0.8853 - false_negatives: 1680.0000 - false_positives: 1986.0000 - true_negatives: 15198.0000 - true_positives: 15336.0000 - f1_score: 0.6646 - val_loss: 0.2693 - val_accuracy: 0.8924 - val_auc: 0.9563 - val_recall: 0.9096 - val_precision: 0.8847 - val_false_negatives: 177.0000 - val_false_positives: 232.0000 - val_true_negatives: 1610.0000 - val_true_positives: 1781.0000 - val_f1_score: 0.6801 - lr: 0.0010\n",
            "Epoch 9/20\n",
            "34/34 [==============================] - 773s 23s/step - loss: 0.2748 - accuracy: 0.8972 - auc: 0.9555 - recall: 0.9033 - precision: 0.8914 - false_negatives: 1645.0000 - false_positives: 1872.0000 - true_negatives: 15312.0000 - true_positives: 15371.0000 - f1_score: 0.6646 - val_loss: 0.2689 - val_accuracy: 0.8939 - val_auc: 0.9573 - val_recall: 0.9183 - val_precision: 0.8809 - val_false_negatives: 160.0000 - val_false_positives: 243.0000 - val_true_negatives: 1599.0000 - val_true_positives: 1798.0000 - val_f1_score: 0.6801 - lr: 0.0010\n",
            "Epoch 10/20\n",
            "34/34 [==============================] - 766s 23s/step - loss: 0.2722 - accuracy: 0.8964 - auc: 0.9565 - recall: 0.9047 - precision: 0.8891 - false_negatives: 1622.0000 - false_positives: 1921.0000 - true_negatives: 15263.0000 - true_positives: 15394.0000 - f1_score: 0.6646 - val_loss: 0.2743 - val_accuracy: 0.8897 - val_auc: 0.9571 - val_recall: 0.8580 - val_precision: 0.9226 - val_false_negatives: 278.0000 - val_false_positives: 141.0000 - val_true_negatives: 1701.0000 - val_true_positives: 1680.0000 - val_f1_score: 0.6801 - lr: 0.0010\n",
            "Epoch 11/20\n",
            "34/34 [==============================] - 771s 23s/step - loss: 0.2611 - accuracy: 0.9026 - auc: 0.9598 - recall: 0.9060 - precision: 0.8990 - false_negatives: 1600.0000 - false_positives: 1731.0000 - true_negatives: 15453.0000 - true_positives: 15416.0000 - f1_score: 0.6645 - val_loss: 0.2714 - val_accuracy: 0.8895 - val_auc: 0.9577 - val_recall: 0.9168 - val_precision: 0.8748 - val_false_negatives: 163.0000 - val_false_positives: 257.0000 - val_true_negatives: 1585.0000 - val_true_positives: 1795.0000 - val_f1_score: 0.6801 - lr: 0.0010\n",
            "Epoch 12/20\n",
            "34/34 [==============================] - 773s 23s/step - loss: 0.2530 - accuracy: 0.9076 - auc: 0.9620 - recall: 0.9136 - precision: 0.9019 - false_negatives: 1470.0000 - false_positives: 1691.0000 - true_negatives: 15493.0000 - true_positives: 15546.0000 - f1_score: 0.6645 - val_loss: 0.2670 - val_accuracy: 0.8908 - val_auc: 0.9580 - val_recall: 0.8749 - val_precision: 0.9097 - val_false_negatives: 245.0000 - val_false_positives: 170.0000 - val_true_negatives: 1672.0000 - val_true_positives: 1713.0000 - val_f1_score: 0.6801 - lr: 0.0010\n",
            "Epoch 13/20\n",
            "34/34 [==============================] - 764s 22s/step - loss: 0.2435 - accuracy: 0.9115 - auc: 0.9652 - recall: 0.9170 - precision: 0.9064 - false_negatives: 1413.0000 - false_positives: 1612.0000 - true_negatives: 15572.0000 - true_positives: 15603.0000 - f1_score: 0.6646 - val_loss: 0.2775 - val_accuracy: 0.8905 - val_auc: 0.9590 - val_recall: 0.8708 - val_precision: 0.9127 - val_false_negatives: 253.0000 - val_false_positives: 163.0000 - val_true_negatives: 1679.0000 - val_true_positives: 1705.0000 - val_f1_score: 0.6801 - lr: 0.0010\n",
            "Epoch 14/20\n",
            "34/34 [==============================] - 764s 23s/step - loss: 0.2377 - accuracy: 0.9115 - auc: 0.9664 - recall: 0.9177 - precision: 0.9057 - false_negatives: 1400.0000 - false_positives: 1625.0000 - true_negatives: 15559.0000 - true_positives: 15616.0000 - f1_score: 0.6647 - val_loss: 0.2712 - val_accuracy: 0.8895 - val_auc: 0.9582 - val_recall: 0.8759 - val_precision: 0.9064 - val_false_negatives: 243.0000 - val_false_positives: 177.0000 - val_true_negatives: 1665.0000 - val_true_positives: 1715.0000 - val_f1_score: 0.6801 - lr: 0.0010\n"
          ]
        }
      ],
      "source": [
        "history_Bideractional= training_model_Bideractional.fit(\n",
        "    X_train, y_train,\n",
        "    batch_size=1024,\n",
        "    epochs=20,\n",
        "    validation_split=0.1,\n",
        "    callbacks=callbacks,\n",
        "    verbose=1,\n",
        ")"
      ]
    },
    {
      "cell_type": "code",
      "execution_count": null,
      "metadata": {
        "id": "W9Us83JF9_4-"
      },
      "outputs": [],
      "source": [
        "# Predicting on the Test dataset.\n",
        "# y_pred_LSTM = training_model_LSTM.predict(X_test)\n",
        "y_pred_Bideractional = training_model_Bideractional.predict(X_test)\n",
        "\n",
        "# Converting prediction to reflect the sentiment predicted.\n",
        "# y_pred_LSTM = np.where(y_pred_LSTM>=0.5, 1, 0)\n",
        "y_pred_Bideractional = np.where(y_pred_Bideractional>=0.5, 1, 0)"
      ]
    },
    {
      "cell_type": "code",
      "execution_count": null,
      "metadata": {
        "colab": {
          "base_uri": "https://localhost:8080/"
        },
        "id": "JDgzOv8J81qZ",
        "outputId": "4fc2c527-4af6-4105-c744-d89aca4e08f0"
      },
      "outputs": [
        {
          "name": "stdout",
          "output_type": "stream",
          "text": [
            "Accuracy: 0.90\n",
            "Precision: 0.91\n",
            "Recall: 0.88\n",
            "F1 Score: 0.90\n",
            "Confusion Matrix:\n",
            "[[903  90]\n",
            " [116 891]]\n"
          ]
        }
      ],
      "source": [
        "# Calculate evaluation metrics\n",
        "accuracy = accuracy_score(y_test, y_pred_Bideractional)\n",
        "precision = precision_score(y_test, y_pred_Bideractional)\n",
        "recall = recall_score(y_test, y_pred_Bideractional)\n",
        "f1 = f1_score(y_test, y_pred_Bideractional)\n",
        "conf_matrix = confusion_matrix(y_test, y_pred_Bideractional)\n",
        "\n",
        "# Print the metrics\n",
        "print(f'Accuracy: {accuracy:.2f}')\n",
        "print(f'Precision: {precision:.2f}')\n",
        "print(f'Recall: {recall:.2f}')\n",
        "print(f'F1 Score: {f1:.2f}')"
      ]
    },
    {
      "cell_type": "code",
      "execution_count": null,
      "metadata": {
        "colab": {
          "base_uri": "https://localhost:8080/",
          "height": 927
        },
        "id": "BKcENtPf2ABf",
        "outputId": "22081232-b2bc-41ff-9046-53628e365369"
      },
      "outputs": [
        {
          "data": {
            "image/png": "[encoded data removed]",
            "text/plain": [
              "<Figure size 640x480 with 1 Axes>"
            ]
          },
          "metadata": {},
          "output_type": "display_data"
        },
        {
          "data": {
            "image/png": "[encoded data removed]",
            "text/plain": [
              "<Figure size 640x480 with 1 Axes>"
            ]
          },
          "metadata": {},
          "output_type": "display_data"
        }
      ],
      "source": [
        "# Assuming you have the 'history' object\n",
        "loss = history_Bideractional.history['loss']\n",
        "val_loss = history_Bideractional.history['val_loss']\n",
        "acc = history_Bideractional.history['accuracy']\n",
        "val_acc = history_Bideractional.history['val_accuracy']\n",
        "\n",
        "# Plotting loss\n",
        "plt.plot(loss, label='Training Loss')\n",
        "plt.plot(val_loss, label='Validation Loss')\n",
        "plt.title('Training and validation Loss - LSTM(Bidirectional)')\n",
        "plt.xlabel('Epochs')\n",
        "plt.ylabel('Loss')\n",
        "plt.legend()\n",
        "plt.show()\n",
        "\n",
        "# Plotting accuracy\n",
        "plt.plot(acc, label='Training Accuracy')\n",
        "plt.plot(val_acc, label='Validation Accuracy')\n",
        "plt.title('Training and validation accuracy - LSTM(Bidirectional)')\n",
        "plt.xlabel('Epochs')\n",
        "plt.ylabel('Accuracy')\n",
        "plt.legend()\n",
        "plt.show()"
      ]
    },
    {
      "cell_type": "code",
      "execution_count": null,
      "metadata": {
        "colab": {
          "base_uri": "https://localhost:8080/",
          "height": 474
        },
        "id": "ZcXUpLhZ4DjQ",
        "outputId": "598b7ecb-9e73-4b7d-b6ac-4f4d3b9c5e47"
      },
      "outputs": [
        {
          "data": {
            "image/png": "[encoded data removed]",
            "text/plain": [
              "<Figure size 640x480 with 2 Axes>"
            ]
          },
          "metadata": {},
          "output_type": "display_data"
        }
      ],
      "source": [
        "class_names = ['0', '1']\n",
        "\n",
        "# Plot the confusion matrix\n",
        "plt.imshow(conf_matrix, interpolation='nearest', cmap=plt.cm.Blues)\n",
        "plt.title('Confusion Matrix of LSTM Bideractional')\n",
        "plt.colorbar()\n",
        "\n",
        "# Add labels\n",
        "tick_marks = np.arange(len(class_names))\n",
        "plt.xticks(tick_marks, class_names, rotation=45)\n",
        "plt.yticks(tick_marks, class_names)\n",
        "\n",
        "# Add text annotations\n",
        "for i in range(len(class_names)):\n",
        "    for j in range(len(class_names)):\n",
        "        plt.text(j, i, str(conf_matrix[i, j]), ha='center', va='center', color='white' if conf_matrix[i, j] > conf_matrix.max() / 2 else 'black')\n",
        "\n",
        "plt.xlabel('Predicted')\n",
        "plt.ylabel('True Label')\n",
        "plt.show()"
      ]
    },
    {
      "cell_type": "markdown",
      "metadata": {
        "id": "7IyNKCwfx64a"
      },
      "source": [
        "**3) GRU**"
      ]
    },
    {
      "cell_type": "code",
      "execution_count": null,
      "metadata": {
        "id": "-CE-ki7px82r"
      },
      "outputs": [],
      "source": [
        "def getModel_GRU():\n",
        "    embedding_layer = Embedding(input_dim = vocab_length,\n",
        "                                output_dim = Embedding_dimensions,\n",
        "                                weights=[embedding_matrix],\n",
        "                                input_length=input_length,\n",
        "                                trainable=False)\n",
        "\n",
        "    model = Sequential([\n",
        "        embedding_layer,\n",
        "        GRU(32,return_sequences=False),\n",
        "        Dense(24, activation='relu'),\n",
        "        Dense(1,activation=\"sigmoid\")\n",
        "    ],\n",
        "    name=\"Sentiment_Model_GRU\")\n",
        "    return model\n",
        "training_model_GRU= getModel_GRU()"
      ]
    },
    {
      "cell_type": "code",
      "execution_count": null,
      "metadata": {
        "colab": {
          "base_uri": "https://localhost:8080/"
        },
        "id": "odn_ibd_zo-U",
        "outputId": "21584240-0184-470b-c741-4a5912bc1281"
      },
      "outputs": [
        {
          "name": "stdout",
          "output_type": "stream",
          "text": [
            "Model: \"Sentiment_Model_GRU\"\n",
            "_________________________________________________________________\n",
            " Layer (type)                Output Shape              Param #   \n",
            "=================================================================\n",
            " embedding_8 (Embedding)     (None, 750, 100)          3500000   \n",
            "                                                                 \n",
            " gru_4 (GRU)                 (None, 32)                12864     \n",
            "                                                                 \n",
            " dense_11 (Dense)            (None, 24)                792       \n",
            "                                                                 \n",
            " dense_12 (Dense)            (None, 1)                 25        \n",
            "                                                                 \n",
            "=================================================================\n",
            "Total params: 3513681 (13.40 MB)\n",
            "Trainable params: 13681 (53.44 KB)\n",
            "Non-trainable params: 3500000 (13.35 MB)\n",
            "_________________________________________________________________\n"
          ]
        }
      ],
      "source": [
        "training_model_GRU.summary()"
      ]
    },
    {
      "cell_type": "code",
      "execution_count": null,
      "metadata": {
        "id": "a1HOQIkAzzi8"
      },
      "outputs": [],
      "source": [
        "training_model_GRU.compile(loss='binary_crossentropy', optimizer='adam', metrics=['accuracy',\n",
        "                                                                                tf.keras.metrics.AUC(),\n",
        "                                                                                tf.keras.metrics.Recall(),\n",
        "                                                                                tf.keras.metrics.Precision(),\n",
        "                                                                                tf.keras.metrics.FalseNegatives(),\n",
        "                                                                                tf.keras.metrics.FalsePositives(),\n",
        "                                                                                tf.keras.metrics.TrueNegatives(),\n",
        "                                                                                tf.keras.metrics.TruePositives(),\n",
        "                                                                                tf.keras.metrics.F1Score()\n",
        "                                                                                  ])"
      ]
    },
    {
      "cell_type": "code",
      "execution_count": null,
      "metadata": {
        "id": "dIQ1XGGV0j4e"
      },
      "outputs": [],
      "source": [
        "callbacks = tf.keras.callbacks.EarlyStopping(\n",
        "    monitor=\"val_accuracy\",\n",
        "    min_delta=0.005,\n",
        "    patience=2,\n",
        "    mode=\"auto\",\n",
        "    restore_best_weights=False)"
      ]
    },
    {
      "cell_type": "code",
      "execution_count": null,
      "metadata": {
        "colab": {
          "base_uri": "https://localhost:8080/"
        },
        "id": "iHq9_aNozYQj",
        "outputId": "707177c3-fb19-4bcd-b1eb-38ecc71e2a09"
      },
      "outputs": [
        {
          "name": "stdout",
          "output_type": "stream",
          "text": [
            "Epoch 1/20\n",
            "34/34 [==============================] - 6s 101ms/step - loss: 0.6519 - accuracy: 0.6165 - auc_6: 0.6627 - recall_6: 0.5081 - precision_6: 0.6457 - false_negatives_6: 8371.0000 - false_positives_6: 4744.0000 - true_negatives_6: 12440.0000 - true_positives_6: 8645.0000 - f1_score: 0.6645 - val_loss: 0.5826 - val_accuracy: 0.6908 - val_auc_6: 0.7597 - val_recall_6: 0.7089 - val_precision_6: 0.6964 - val_false_negatives_6: 570.0000 - val_false_positives_6: 605.0000 - val_true_negatives_6: 1237.0000 - val_true_positives_6: 1388.0000 - val_f1_score: 0.6801\n",
            "Epoch 2/20\n",
            "34/34 [==============================] - 2s 71ms/step - loss: 0.5300 - accuracy: 0.7322 - auc_6: 0.8101 - recall_6: 0.7322 - precision_6: 0.7303 - false_negatives_6: 4557.0000 - false_positives_6: 4602.0000 - true_negatives_6: 12582.0000 - true_positives_6: 12459.0000 - f1_score: 0.6645 - val_loss: 0.4610 - val_accuracy: 0.7826 - val_auc_6: 0.8641 - val_recall_6: 0.7768 - val_precision_6: 0.7963 - val_false_negatives_6: 437.0000 - val_false_positives_6: 389.0000 - val_true_negatives_6: 1453.0000 - val_true_positives_6: 1521.0000 - val_f1_score: 0.6801\n",
            "Epoch 3/20\n",
            "34/34 [==============================] - 2s 69ms/step - loss: 0.4108 - accuracy: 0.8164 - auc_6: 0.8957 - recall_6: 0.8218 - precision_6: 0.8116 - false_negatives_6: 3033.0000 - false_positives_6: 3246.0000 - true_negatives_6: 13938.0000 - true_positives_6: 13983.0000 - f1_score: 0.6645 - val_loss: 0.4015 - val_accuracy: 0.8187 - val_auc_6: 0.9133 - val_recall_6: 0.9259 - val_precision_6: 0.7692 - val_false_negatives_6: 145.0000 - val_false_positives_6: 544.0000 - val_true_negatives_6: 1298.0000 - val_true_positives_6: 1813.0000 - val_f1_score: 0.6801\n",
            "Epoch 4/20\n",
            "34/34 [==============================] - 2s 68ms/step - loss: 0.3734 - accuracy: 0.8394 - auc_6: 0.9147 - recall_6: 0.8349 - precision_6: 0.8411 - false_negatives_6: 2809.0000 - false_positives_6: 2684.0000 - true_negatives_6: 14500.0000 - true_positives_6: 14207.0000 - f1_score: 0.6645 - val_loss: 0.3402 - val_accuracy: 0.8550 - val_auc_6: 0.9312 - val_recall_6: 0.8682 - val_precision_6: 0.8530 - val_false_negatives_6: 258.0000 - val_false_positives_6: 293.0000 - val_true_negatives_6: 1549.0000 - val_true_positives_6: 1700.0000 - val_f1_score: 0.6801\n",
            "Epoch 5/20\n",
            "34/34 [==============================] - 2s 69ms/step - loss: 0.3223 - accuracy: 0.8648 - auc_6: 0.9377 - recall_6: 0.8618 - precision_6: 0.8658 - false_negatives_6: 2352.0000 - false_positives_6: 2273.0000 - true_negatives_6: 14911.0000 - true_positives_6: 14664.0000 - f1_score: 0.6645 - val_loss: 0.3084 - val_accuracy: 0.8713 - val_auc_6: 0.9439 - val_recall_6: 0.8912 - val_precision_6: 0.8634 - val_false_negatives_6: 213.0000 - val_false_positives_6: 276.0000 - val_true_negatives_6: 1566.0000 - val_true_positives_6: 1745.0000 - val_f1_score: 0.6801\n",
            "Epoch 6/20\n",
            "34/34 [==============================] - 2s 68ms/step - loss: 0.3015 - accuracy: 0.8746 - auc_6: 0.9453 - recall_6: 0.8808 - precision_6: 0.8690 - false_negatives_6: 2028.0000 - false_positives_6: 2259.0000 - true_negatives_6: 14925.0000 - true_positives_6: 14988.0000 - f1_score: 0.6645 - val_loss: 0.2904 - val_accuracy: 0.8797 - val_auc_6: 0.9496 - val_recall_6: 0.8876 - val_precision_6: 0.8800 - val_false_negatives_6: 220.0000 - val_false_positives_6: 237.0000 - val_true_negatives_6: 1605.0000 - val_true_positives_6: 1738.0000 - val_f1_score: 0.6801\n",
            "Epoch 7/20\n",
            "34/34 [==============================] - 2s 69ms/step - loss: 0.2830 - accuracy: 0.8845 - auc_6: 0.9516 - recall_6: 0.8875 - precision_6: 0.8812 - false_negatives_6: 1914.0000 - false_positives_6: 2036.0000 - true_negatives_6: 15148.0000 - true_positives_6: 15102.0000 - f1_score: 0.6645 - val_loss: 0.2807 - val_accuracy: 0.8853 - val_auc_6: 0.9530 - val_recall_6: 0.8764 - val_precision_6: 0.8984 - val_false_negatives_6: 242.0000 - val_false_positives_6: 194.0000 - val_true_negatives_6: 1648.0000 - val_true_positives_6: 1716.0000 - val_f1_score: 0.6801\n",
            "Epoch 8/20\n",
            "34/34 [==============================] - 2s 73ms/step - loss: 0.2739 - accuracy: 0.8893 - auc_6: 0.9544 - recall_6: 0.8930 - precision_6: 0.8855 - false_negatives_6: 1821.0000 - false_positives_6: 1965.0000 - true_negatives_6: 15219.0000 - true_positives_6: 15195.0000 - f1_score: 0.6645 - val_loss: 0.2745 - val_accuracy: 0.8882 - val_auc_6: 0.9550 - val_recall_6: 0.8784 - val_precision_6: 0.9019 - val_false_negatives_6: 238.0000 - val_false_positives_6: 187.0000 - val_true_negatives_6: 1655.0000 - val_true_positives_6: 1720.0000 - val_f1_score: 0.6801\n",
            "Epoch 9/20\n",
            "34/34 [==============================] - 2s 70ms/step - loss: 0.2650 - accuracy: 0.8925 - auc_6: 0.9572 - recall_6: 0.8956 - precision_6: 0.8892 - false_negatives_6: 1777.0000 - false_positives_6: 1899.0000 - true_negatives_6: 15285.0000 - true_positives_6: 15239.0000 - f1_score: 0.6645 - val_loss: 0.2679 - val_accuracy: 0.8911 - val_auc_6: 0.9564 - val_recall_6: 0.8907 - val_precision_6: 0.8971 - val_false_negatives_6: 214.0000 - val_false_positives_6: 200.0000 - val_true_negatives_6: 1642.0000 - val_true_positives_6: 1744.0000 - val_f1_score: 0.6801\n",
            "Epoch 10/20\n",
            "34/34 [==============================] - 2s 70ms/step - loss: 0.2597 - accuracy: 0.8947 - auc_6: 0.9588 - recall_6: 0.8966 - precision_6: 0.8924 - false_negatives_6: 1760.0000 - false_positives_6: 1840.0000 - true_negatives_6: 15344.0000 - true_positives_6: 15256.0000 - f1_score: 0.6645 - val_loss: 0.2635 - val_accuracy: 0.8924 - val_auc_6: 0.9580 - val_recall_6: 0.9009 - val_precision_6: 0.8914 - val_false_negatives_6: 194.0000 - val_false_positives_6: 215.0000 - val_true_negatives_6: 1627.0000 - val_true_positives_6: 1764.0000 - val_f1_score: 0.6801\n",
            "Epoch 11/20\n",
            "34/34 [==============================] - 2s 72ms/step - loss: 0.2582 - accuracy: 0.8954 - auc_6: 0.9592 - recall_6: 0.8974 - precision_6: 0.8928 - false_negatives_6: 1745.0000 - false_positives_6: 1833.0000 - true_negatives_6: 15351.0000 - true_positives_6: 15271.0000 - f1_score: 0.6645 - val_loss: 0.2707 - val_accuracy: 0.8853 - val_auc_6: 0.9582 - val_recall_6: 0.9311 - val_precision_6: 0.8583 - val_false_negatives_6: 135.0000 - val_false_positives_6: 301.0000 - val_true_negatives_6: 1541.0000 - val_true_positives_6: 1823.0000 - val_f1_score: 0.6801\n"
          ]
        }
      ],
      "source": [
        "history_GRU = training_model_GRU.fit( X_train, y_train, batch_size=1024,epochs=20, validation_split=0.1, callbacks=callbacks,verbose=1,)"
      ]
    },
    {
      "cell_type": "code",
      "execution_count": null,
      "metadata": {
        "id": "S1A6SxcH7A3L"
      },
      "outputs": [],
      "source": [
        "# Predicting on the Test dataset.\n",
        "# y_pred_LSTM = training_model_LSTM.predict(X_test)\n",
        "y_pred_GRU = training_model_GRU.predict(X_test)\n",
        "\n",
        "# Converting prediction to reflect the sentiment predicted.\n",
        "# y_pred_LSTM = np.where(y_pred_LSTM>=0.5, 1, 0)\n",
        "y_pred_GRU = np.where(y_pred_GRU>=0.5, 1, 0)"
      ]
    },
    {
      "cell_type": "code",
      "execution_count": null,
      "metadata": {
        "colab": {
          "base_uri": "https://localhost:8080/"
        },
        "id": "4f9hPfe-7CxU",
        "outputId": "7cd9abe1-5b2d-46b1-f002-029956ddf025"
      },
      "outputs": [
        {
          "name": "stdout",
          "output_type": "stream",
          "text": [
            "Accuracy: 0.89\n",
            "Precision: 0.87\n",
            "Recall: 0.92\n",
            "F1 Score: 0.89\n"
          ]
        }
      ],
      "source": [
        "# Calculate evaluation metrics\n",
        "accuracy = accuracy_score(y_test, y_pred_GRU)\n",
        "precision = precision_score(y_test, y_pred_GRU)\n",
        "recall = recall_score(y_test, y_pred_GRU)\n",
        "f1 = f1_score(y_test, y_pred_GRU)\n",
        "conf_matrix = confusion_matrix(y_test, y_pred_GRU)\n",
        "\n",
        "# Print the metrics\n",
        "print(f'Accuracy: {accuracy:.2f}')\n",
        "print(f'Precision: {precision:.2f}')\n",
        "print(f'Recall: {recall:.2f}')\n",
        "print(f'F1 Score: {f1:.2f}')"
      ]
    },
    {
      "cell_type": "code",
      "execution_count": null,
      "metadata": {
        "colab": {
          "base_uri": "https://localhost:8080/",
          "height": 881
        },
        "id": "7aYPMURt5cFp",
        "outputId": "cb7391ba-87eb-445b-d4d7-54c0f1811a64"
      },
      "outputs": [
        {
          "data": {
            "image/png": "[encoded data removed]",
            "text/plain": [
              "<Figure size 640x480 with 1 Axes>"
            ]
          },
          "metadata": {},
          "output_type": "display_data"
        },
        {
          "data": {
            "image/png": "[encoded data removed]",
            "text/plain": [
              "<Figure size 640x480 with 1 Axes>"
            ]
          },
          "metadata": {},
          "output_type": "display_data"
        }
      ],
      "source": [
        "# Assuming you have the 'history' object\n",
        "loss = history_GRU.history['loss']\n",
        "val_loss = history_GRU.history['val_loss']\n",
        "acc = history_GRU.history['accuracy']\n",
        "val_acc = history_GRU.history['val_accuracy']\n",
        "\n",
        "# Plotting loss\n",
        "plt.plot(loss, label='Training Loss')\n",
        "plt.plot(val_loss, label='Validation Loss')\n",
        "plt.xlabel('Epochs')\n",
        "plt.ylabel('Loss')\n",
        "plt.legend()\n",
        "plt.show()\n",
        "\n",
        "# Plotting accuracy\n",
        "plt.plot(acc, label='Training Accuracy')\n",
        "plt.plot(val_acc, label='Validation Accuracy')\n",
        "plt.xlabel('Epochs')\n",
        "plt.ylabel('Accuracy')\n",
        "plt.legend()\n",
        "plt.show()\n"
      ]
    },
    {
      "cell_type": "code",
      "execution_count": null,
      "metadata": {
        "colab": {
          "base_uri": "https://localhost:8080/",
          "height": 474
        },
        "id": "K9stLSoQ5gjw",
        "outputId": "cf7833d6-4c87-4b56-ebe8-73f11a667781"
      },
      "outputs": [
        {
          "data": {
            "image/png": "[encoded data removed]",
            "text/plain": [
              "<Figure size 640x480 with 2 Axes>"
            ]
          },
          "metadata": {},
          "output_type": "display_data"
        }
      ],
      "source": [
        "class_names = ['0', '1']\n",
        "\n",
        "# Plot the confusion matrix\n",
        "plt.imshow(conf_matrix, interpolation='nearest', cmap=plt.cm.Blues)\n",
        "plt.title('Confusion Matrix of GRU')\n",
        "plt.colorbar()\n",
        "\n",
        "# Add labels\n",
        "tick_marks = np.arange(len(class_names))\n",
        "plt.xticks(tick_marks, class_names, rotation=45)\n",
        "plt.yticks(tick_marks, class_names)\n",
        "\n",
        "# Add text annotations\n",
        "for i in range(len(class_names)):\n",
        "    for j in range(len(class_names)):\n",
        "        plt.text(j, i, str(conf_matrix[i, j]), ha='center', va='center', color='white' if conf_matrix[i, j] > conf_matrix.max() / 2 else 'black')\n",
        "\n",
        "plt.xlabel('Predicted')\n",
        "plt.ylabel('True Label')\n",
        "plt.show()"
      ]
    },
    {
      "cell_type": "markdown",
      "source": [
        "**Sum Ensamble**"
      ],
      "metadata": {
        "id": "7AcSpaf6dMQM"
      }
    },
    {
      "cell_type": "code",
      "source": [
        "# Assume you have a list of model predictions\n",
        "predictions_model_LSTM = loaded_model_LSTM.predict(X_test)\n",
        "predictions_model_Bideractional = loaded_model_Bideractional.predict(X_test)\n",
        "predictions_model_GRU = loaded_model_GRU.predict(X_test)\n",
        "\n",
        "Ensamble_gred=np.sum([predictions_model_LSTM,predictions_model_Bideractional,predictions_model_GRU],axis=0)\n",
        "\n",
        "# Convert the ensemble predictions to binary values\n",
        "Ensamble_gred_binary=np.where(Ensamble_gred >=0.5,1,0)\n",
        "\n",
        "# Calculate metrcis for each model\n",
        "accuracy_LSTM= accuracy_score(y_test,np.where(predictions_model_LSTM >=0.5,1,0))\n",
        "accuracy_Bideractional= accuracy_score(y_test,np.where(predictions_model_Bideractional >=0.5,1,0))\n",
        "accuracy_GRU= accuracy_score(y_test,np.where(predictions_model_GRU >=0.5,1,0))\n",
        "\n",
        "precision_LSTM= precision_score(y_test,np.where(predictions_model_LSTM >=0.5,1,0))\n",
        "precision_Bideractional= precision_score(y_test,np.where(predictions_model_Bideractional >=0.5,1,0))\n",
        "precision_GRU= precision_score(y_test,np.where(predictions_model_GRU >=0.5,1,0))\n",
        "\n",
        "recall_LSTM= recall_score(y_test,np.where(predictions_model_LSTM >=0.5,1,0))\n",
        "recall_Bideractional= recall_score(y_test,np.where(predictions_model_Bideractional >=0.5,1,0))\n",
        "recall_GRU= recall_score(y_test,np.where(predictions_model_GRU >=0.5,1,0))\n",
        "\n",
        "f1_LSTM= f1_score(y_test,np.where(predictions_model_LSTM >=0.5,1,0))\n",
        "f1_Bideractional= f1_score(y_test,np.where(predictions_model_Bideractional >=0.5,1,0))\n",
        "f1_GRU= f1_score(y_test,np.where(predictions_model_GRU >=0.5,1,0))\n",
        "\n",
        "# Now, evaluate the performance of the ensemble\n",
        "accuracy_ensemble = accuracy_score(y_test, Ensamble_gred_binary)\n",
        "precision_ensemble = precision_score(y_test, Ensamble_gred_binary)\n",
        "recall_ensemble = recall_score(y_test, Ensamble_gred_binary)\n",
        "f1_ensemble = f1_score(y_test, Ensamble_gred_binary)\n",
        "\n",
        "print(f\"Ensemble Accuracy: {accuracy_ensemble:.2f}\")\n",
        "print(f\"Ensemble precision: {precision_ensemble:.2f}\")\n",
        "print(f\"Ensemble recall: {recall_ensemble:.2f}\")\n",
        "print(f\"Ensemble f1: {f1_ensemble:.2f}\")"
      ],
      "metadata": {
        "colab": {
          "base_uri": "https://localhost:8080/"
        },
        "id": "5bhEQo_MFLKA",
        "outputId": "87dfa04c-9cc2-402c-9ee2-13bae92c2256"
      },
      "execution_count": null,
      "outputs": [
        {
          "output_type": "stream",
          "name": "stdout",
          "text": [
            "63/63 [==============================] - 1s 19ms/step\n",
            "63/63 [==============================] - 1s 17ms/step\n",
            "63/63 [==============================] - 1s 9ms/step\n",
            "Ensemble Accuracy: 0.86\n",
            "Ensemble precision: 0.79\n",
            "Ensemble recall: 0.98\n",
            "Ensemble f1: 0.87\n"
          ]
        }
      ]
    },
    {
      "cell_type": "code",
      "source": [
        "conf_matrix = confusion_matrix(y_test, Ensamble_gred_binary)\n",
        "\n",
        "class_names = ['0', '1']\n",
        "\n",
        "# Plot the confusion matrix\n",
        "plt.imshow(conf_matrix, interpolation='nearest', cmap=plt.cm.Blues)\n",
        "plt.title('Confusion Matrix of Ensamble')\n",
        "plt.colorbar()\n",
        "\n",
        "# Add labels\n",
        "tick_marks = np.arange(len(class_names))\n",
        "plt.xticks(tick_marks, class_names, rotation=45)\n",
        "plt.yticks(tick_marks, class_names)\n",
        "\n",
        "# Add text annotations\n",
        "for i in range(len(class_names)):\n",
        "    for j in range(len(class_names)):\n",
        "        plt.text(j, i, str(conf_matrix[i, j]), ha='center', va='center', color='white' if conf_matrix[i, j] > conf_matrix.max() / 2 else 'black')\n",
        "\n",
        "plt.xlabel('Predicted')\n",
        "plt.ylabel('True Label')\n",
        "plt.show()"
      ],
      "metadata": {
        "colab": {
          "base_uri": "https://localhost:8080/",
          "height": 474
        },
        "id": "Vo4K3t9JInZ6",
        "outputId": "4e360733-0f90-40ca-f13c-ad4451247d92"
      },
      "execution_count": null,
      "outputs": [
        {
          "output_type": "display_data",
          "data": {
            "text/plain": [
              "<Figure size 640x480 with 2 Axes>"
            ],
            "image/png": "[encoded data removed]"
          },
          "metadata": {}
        }
      ]
    },
    {
      "cell_type": "markdown",
      "source": [
        "# Save and Load Models from Drive"
      ],
      "metadata": {
        "id": "GdRrLj9mdXs3"
      }
    },
    {
      "cell_type": "code",
      "source": [
        "drive.mount('/content/drive')"
      ],
      "metadata": {
        "colab": {
          "base_uri": "https://localhost:8080/"
        },
        "id": "crWq1xz1Q8HQ",
        "outputId": "9a0e0813-c9c3-4604-b1cd-3220ae7249ad"
      },
      "execution_count": 11,
      "outputs": [
        {
          "output_type": "stream",
          "name": "stdout",
          "text": [
            "Mounted at /content/drive\n"
          ]
        }
      ]
    },
    {
      "cell_type": "code",
      "execution_count": null,
      "metadata": {
        "id": "8DioI3Ly7w7Q"
      },
      "outputs": [],
      "source": [
        "# Save the entire model to an HDF5 file\n",
        "training_model_LSTM.save('/content/gdrive/My Drive/Colab Notebooks/training_model_LSTM.h5')\n",
        "training_model_Bideractional.save(\"/content/gdrive/My Drive/Colab Notebooks/training_model_Bideractional.h5\")\n",
        "training_model_GRU.save('/content/gdrive/MyDrive/IMDB_Dataset/training_model_GRU.h5')"
      ]
    },
    {
      "cell_type": "code",
      "execution_count": 41,
      "metadata": {
        "id": "wN44u3eZAueq"
      },
      "outputs": [],
      "source": [
        "# Load the model\n",
        "loaded_model_LSTM = load_model(\"/content/drive/MyDrive/IMDB_Dataset/training_model_LSTM.h5\")\n",
        "loaded_model_Bideractional = load_model(\"/content/drive/MyDrive/IMDB_Dataset/training_model_Bideractional.h5\")\n",
        "loaded_model_GRU = load_model(\"/content/drive/MyDrive/IMDB_Dataset/training_model_GRU.h5\")"
      ]
    },
    {
      "cell_type": "code",
      "execution_count": null,
      "metadata": {
        "id": "nhBmhFz5Z8wE"
      },
      "outputs": [],
      "source": [
        "history_dict = history_Bideractional.history\n",
        "\n",
        "# Save the history dictionary using pickle\n",
        "with open(\"/content/gdrive/MyDrive/IMDB_Dataset/history_Bideractional.pkl\", 'wb') as file:\n",
        "    pickle.dump(history_dict, file)"
      ]
    },
    {
      "cell_type": "code",
      "execution_count": null,
      "metadata": {
        "id": "E4hDRBkO89zm"
      },
      "outputs": [],
      "source": [
        "# history object\n",
        "history_dict = history_GRU.history\n",
        "\n",
        "# Save the history dictionary using pickle\n",
        "with open(\"/content/gdrive/MyDrive/IMDB_Dataset/history_GRU.pkl\", 'wb') as file:\n",
        "    pickle.dump(history_dict, file)"
      ]
    },
    {
      "cell_type": "code",
      "execution_count": 42,
      "metadata": {
        "id": "GBCRw5giADpP"
      },
      "outputs": [],
      "source": [
        "# Load the history dictionary\n",
        "with open(\"/content/drive/MyDrive/IMDB_Dataset/history_Bideractional.pkl\", 'rb') as file:\n",
        "    loaded_history1 = pickle.load(file)\n",
        "\n",
        "with open(\"/content/drive/MyDrive/IMDB_Dataset/history_GRU.pkl\", 'rb') as file:\n",
        "    loaded_history2 = pickle.load(file)"
      ]
    }
  ],
  "metadata": {
    "accelerator": "GPU",
    "colab": {
      "provenance": [],
      "collapsed_sections": [
        "tXbPqviPZqUk",
        "M9UPJBaZhxRJ",
        "qniOROg0bnQL",
        "TJKR41Y2cIOs",
        "BGas1s6mcov7",
        "GdRrLj9mdXs3"
      ]
    },
    "kernelspec": {
      "display_name": "Python 3",
      "name": "python3"
    },
    "language_info": {
      "name": "python"
    }
  },
  "nbformat": 4,
  "nbformat_minor": 0
}